{
 "cells": [
  {
   "cell_type": "code",
   "execution_count": 4,
   "metadata": {},
   "outputs": [],
   "source": [
    "import newsgroups\n",
    "import numpy as np\n",
    "import matplotlib.pyplot as plt\n",
    "\n",
    "%matplotlib inline\n",
    "import seaborn as sns\n",
    "import sklearn.linear_model\n",
    "\n",
    "from sklearn.metrics import classification_report\n",
    "from sklearn.metrics import accuracy_score, precision_score, recall_score\n",
    "from sklearn.metrics import classification_report\n",
    "from matplotlib.colors import ListedColormap\n",
    "from sklearn.metrics import confusion_matrix"
   ]
  },
  {
   "cell_type": "code",
   "execution_count": 5,
   "metadata": {},
   "outputs": [],
   "source": [
    "HEADERS = [\n",
    "    'From', 'Subject', 'To', 'Reply-To', 'In-Reply-To', 'Apparently-To',\n",
    "    'Original-Sender', 'Originator', 'Moderator', 'Organization', 'Keywords',\n",
    "    'Distribution', 'NNTP-Posting-Host', 'Lines', 'Summary', 'Supersedes',\n",
    "    'X-Bytes', 'X-Disclaimer', 'X-Mailer', 'X-Newsreader', 'X-News-Reader',\n",
    "    'X-Gated-By', 'X-Added', 'X-Status',\n",
    "    'OD-Comment-To', 'Expires', 'Disclaimer', 'Article-I.D.', \n",
    "    'News-Software',  'Nf-ID', 'Mime-Version'\n",
    "]\n",
    "\n",
    "RE_EMAIL = re.compile('<?.*@.*>?', re.M)\n",
    "RE_LINE_BREAK = re.compile('\\\\n+', re.M)\n",
    "RE_CITATION = re.compile('^.*writes:$', re.M)\n",
    "RE_CITATION_QUOTES = re.compile('(\\W+|^)(\\|>|>|\\|)+', re.M)\n",
    "RE_HEADERS = re.compile('^(%s):.*$' % '|'.join(HEADERS), re.M|re.I)\n",
    "def _clean(docs):\n",
    "    docs = map(rm_headers, docs)\n",
    "    docs = map(rm_citation, docs)\n",
    "    docs = map(rm_citation_quotes, docs)\n",
    "    docs = map(rm_email, docs)\n",
    "    docs = map(rm_line_break, docs)\n",
    "    \n",
    "    return list(docs)\n",
    "\n",
    "def rm_citation(doc):\n",
    "    return RE_CITATION.sub('', doc)\n",
    "\n",
    "def rm_citation_quotes(doc):\n",
    "    return RE_CITATION_QUOTES.sub(r'\\1', doc)\n",
    "\n",
    "def rm_email(doc):\n",
    "    return RE_EMAIL.sub('<email>', doc)\n",
    "\n",
    "def rm_line_break(doc):\n",
    "    return RE_LINE_BREAK.sub(' ', doc).strip('\\n\\t ')\n",
    "\n",
    "def rm_headers(doc):\n",
    "    return RE_HEADERS.sub('', doc)"
   ]
  },
  {
   "cell_type": "code",
   "execution_count": 42,
   "metadata": {},
   "outputs": [],
   "source": [
    "class NeuralNet:\n",
    "    \"\"\"\n",
    "    NN for binary classification\n",
    "    Attributes:\n",
    "    ...\n",
    "    \"\"\"\n",
    "    \n",
    "    def __init__(self, normalize = True, learning_rate = 0.01, num_iter = 30000,num_node=[20,1],accuracy=0.00001,lmbd=0.1,beta=0.5,eps=1e-8):\n",
    "        self.learning_rate = learning_rate\n",
    "        self.num_iter = num_iter\n",
    "        self.normalize = normalize\n",
    "        self.num_layer=len(num_node)\n",
    "        self.num_node=num_node\n",
    "        self.accuracy=accuracy\n",
    "        self.lmbd=lmbd\n",
    "        self.beta=beta;\n",
    "        self.eps=eps;\n",
    "        \n",
    "        self.W=None\n",
    "        self.b=None\n",
    "        self.Z=None\n",
    "        self.A=None\n",
    "        self.dW=None\n",
    "        self.db=None\n",
    "        self.dZ=None\n",
    "        self.dA=None\n",
    "        self.SdW=None\n",
    "        self.Sdb=None\n",
    "    \n",
    "    def __normalize(self, X, mean = None, std = None):\n",
    "        n = X.shape[0]\n",
    "        m = mean\n",
    "        if m is None:\n",
    "            m = np.mean(X, axis = 1).reshape((n, 1))\n",
    "        s = std\n",
    "        if s is None:\n",
    "            s = np.std(X, axis = 1).reshape((n, 1))\n",
    "        X_new = (X - m) / s**2\n",
    "        return X_new, m, s\n",
    "\n",
    "    def __sigmoid(self, Z):\n",
    "        return 1 / (1 + np.exp(-Z))\n",
    "    \n",
    "    def __softmax(self, Z):\n",
    "        expZ = np.exp(Z - np.max(Z))\n",
    "        return expZ / expZ.sum(axis = 0, keepdims = True)\n",
    "    \n",
    "    ########################################################################################################################\n",
    "    \n",
    "    def __initialize_parameters(self, n_x):\n",
    "        \n",
    "        self.W=[]\n",
    "        self.SdW=[]\n",
    "        \n",
    "        self.W.append(list(np.random.randn(self.num_node[0], n_x)/np.sqrt(n_x)))\n",
    "        self.b = [np.zeros((self.num_node[i], 1)) for i in range(self.num_layer)]\n",
    "       \n",
    "\n",
    "        self.W = self.W + [list((np.random.randn(self.num_node[i],self.num_node[i - 1])*\n",
    "                             np.sqrt(1/(self.num_node[i - 1]+self.num_node[i])))) for i in range(1,self.num_layer)]\n",
    "        \n",
    "        self.SdW.append(list(np.zeros((self.num_node[0], n_x))))\n",
    "        self.SdW = self.SdW + [list(np.zeros((self.num_node[i],self.num_node[i - 1]))) for i in range(1,self.num_layer)]\n",
    "        self.Sdb = [np.zeros((self.num_node[i], 1)) for i in range(self.num_layer)]\n",
    "\n",
    "\n",
    "        \n",
    "        \n",
    "    # Forward part\n",
    "    def __forward_propagation(self, X):\n",
    "        self.Z=[]\n",
    "        self.A=[]\n",
    "        self.Z.append(np.dot(self.W[0], X) + self.b[0])\n",
    "        self.A.append(self.__sigmoid(self.Z[0]))\n",
    "\n",
    "        for i in range(1,len(self.W)-1):\n",
    "            self.Z.append(np.dot(self.W[i], self.A[i - 1]) + self.b[i])\n",
    "            self.A.append(self.__sigmoid(self.Z[i]))\n",
    "        \n",
    "        self.Z.append(np.dot(self.W[-1], self.A[-1]) + self.b[-1])\n",
    "        self.A.append(self.__softmax(self.Z[-1]))\n",
    "        return self.A[-1]\n",
    "    \n",
    "    def __sigmoid_derivative(self, Z):\n",
    "        s = 1 / (1 + np.exp(-Z))\n",
    "        return np.multiply(s, (1 - s))\n",
    "    \n",
    "    def cross_entropy(self, A, Y):\n",
    "        return - np.sum(np.log(A) * (Y), axis = 1)\n",
    "    \n",
    "    def compute_cost(self, A, Y):\n",
    "        J = - np.mean(Y.T * np.log(A.T + 1e-8))\n",
    "        return J\n",
    "    \n",
    "    def to_classlabel(self, z):\n",
    "        return z.argmax(axis = 1)\n",
    "       \n",
    "        \n",
    "    # Backward part      \n",
    "    def __backward_propagation(self, X, Y):\n",
    "        m = X.shape[1]\n",
    "        n = X.shape[0]\n",
    "        W, b,Z, A=self.W,self.b,self.Z,self.A\n",
    "\n",
    "      \n",
    "        self.dW,self.db,self.dZ,self.dA=[],[],[],[]\n",
    "        self.dZ.append(A[-1] - Y)\n",
    "        self.dW.append(1. / m * np.dot(self.dZ[-1], A[-2].T))\n",
    "        self.db.append(1. / m * np.sum(self.dZ[-1], axis = 1, keepdims = True))\n",
    "        self.dA.append(np.dot(np.array(W[-1]).T, self.dZ[-1]))       \n",
    "\n",
    "\n",
    "            \n",
    "\n",
    "        for i in range(self.num_layer-1):\n",
    "            self.dZ.append(np.multiply(self.dA[i], np.multiply(A[self.num_layer-2-i], 1 - A[self.num_layer-2-i])))\n",
    "            if(self.num_layer - 3 - i >= 0):\n",
    "                self.dW.append( 1. / m * np.dot(self.dZ[i+1], A[self.num_layer-3-i].T))\n",
    "            else:\n",
    "                self.dW.append( 1. / m * np.dot(self.dZ[i+1], X.T))\n",
    "            self.db.append( 1. / m * np.sum(self.dZ[i+1], axis = 1, keepdims = True))\n",
    "            self.dA.append(np.dot(np.array(W[self.num_layer-2-i]).T, self.dZ[i+1]))\n",
    "       \n",
    "        self.dW.reverse()\n",
    "        self.db.reverse()\n",
    "        self.dZ.reverse()\n",
    "        self.dA.reverse()\n",
    "\n",
    "    \n",
    "    def __update_parameters(self,m):\n",
    "        for i in range(self.num_layer):\n",
    "            self.SdW[i]=self.beta * np.array(self.SdW[i])+(1-self.beta) * np.power(self.dW[i],2)\n",
    "            self.Sdb[i]=self.beta * np.array(self.Sdb[i])+(1-self.beta) * np.power(self.db[i],2)\n",
    "            self.W[i] = self.W[i] - self.learning_rate * self.dW[i]/( np.sqrt(self.SdW[i]) +self.eps)\n",
    "            self.b[i] = self.b[i] - self.learning_rate * self.db[i]/( np.sqrt(self.Sdb[i]) +self.eps)\n",
    "\n",
    "        \n",
    "    def fit(self, X_vert, Y_vert, print_cost = True):\n",
    "        \n",
    "        X, Y = X_vert.T, Y_vert.T\n",
    "        \n",
    "        if self.normalize:\n",
    "            X, self.__mean, self.__std = self.__normalize(X)\n",
    "        \n",
    "        costs = []\n",
    "        check = []\n",
    "        m = X.shape[1]\n",
    "        n_x = X.shape[0]\n",
    "        \n",
    "        self.num_node.append(Y.shape[0])\n",
    "        self.num_layer = self.num_layer + 1\n",
    "        self.__initialize_parameters(n_x)\n",
    " \n",
    "        for i in range(self.num_iter):\n",
    "            A = self.__forward_propagation(X)\n",
    "\n",
    "            cost = self.compute_cost(A, Y)\n",
    "            self.__backward_propagation(X, Y)\n",
    "\n",
    "            self.__update_parameters(m)\n",
    "        \n",
    "            check.append(cost)\n",
    "            if print_cost and i % 100 == 0:\n",
    "                print(\"{}-th iteration: {}\".format(i, cost))\n",
    "\n",
    "            if i % 10 == 0:\n",
    "                costs.append(cost)\n",
    "                \n",
    "            if(len(check)>2 and abs(check[i]-check[i-1])<self.accuracy):\n",
    "                break\n",
    "\n",
    "        if print_cost:\n",
    "            plt.plot(costs)\n",
    "            plt.ylabel(\"Cost\")\n",
    "            plt.xlabel(\"Iteration, *1000\")\n",
    "            plt.show()\n",
    "    \n",
    "    def predict_proba(self, X_vert):\n",
    "        X = X_vert.T\n",
    "        if self.normalize:\n",
    "            X, _, _ = self.__normalize(X, self.__mean, self.__std)\n",
    "        \n",
    "        probs = self.__forward_propagation(X)\n",
    "        return probs.T\n",
    "    \n",
    "    def predict(self, X_vert):\n",
    "        pp = self.predict_proba(X_vert)\n",
    "        return np.argmax(pp, axis = 1)\n",
    "    "
   ]
  },
  {
   "cell_type": "markdown",
   "metadata": {},
   "source": [
    "# Load and preprocess data"
   ]
  },
  {
   "cell_type": "code",
   "execution_count": 7,
   "metadata": {},
   "outputs": [
    {
     "name": "stderr",
     "output_type": "stream",
     "text": [
      "Downloading 20news dataset. This may take a few minutes.\n",
      "Downloading dataset from https://ndownloader.figshare.com/files/5975967 (14 MB)\n"
     ]
    }
   ],
   "source": [
    "data = newsgroups.load()"
   ]
  },
  {
   "cell_type": "code",
   "execution_count": 8,
   "metadata": {},
   "outputs": [
    {
     "data": {
      "text/html": [
       "<div>\n",
       "<style scoped>\n",
       "    .dataframe tbody tr th:only-of-type {\n",
       "        vertical-align: middle;\n",
       "    }\n",
       "\n",
       "    .dataframe tbody tr th {\n",
       "        vertical-align: top;\n",
       "    }\n",
       "\n",
       "    .dataframe thead th {\n",
       "        text-align: right;\n",
       "    }\n",
       "</style>\n",
       "<table border=\"1\" class=\"dataframe\">\n",
       "  <thead>\n",
       "    <tr style=\"text-align: right;\">\n",
       "      <th></th>\n",
       "      <th>text</th>\n",
       "      <th>group</th>\n",
       "    </tr>\n",
       "  </thead>\n",
       "  <tbody>\n",
       "    <tr>\n",
       "      <td>count</td>\n",
       "      <td>18846</td>\n",
       "      <td>18846</td>\n",
       "    </tr>\n",
       "    <tr>\n",
       "      <td>unique</td>\n",
       "      <td>18750</td>\n",
       "      <td>20</td>\n",
       "    </tr>\n",
       "    <tr>\n",
       "      <td>top</td>\n",
       "      <td></td>\n",
       "      <td>rec.sport.hockey</td>\n",
       "    </tr>\n",
       "    <tr>\n",
       "      <td>freq</td>\n",
       "      <td>30</td>\n",
       "      <td>999</td>\n",
       "    </tr>\n",
       "  </tbody>\n",
       "</table>\n",
       "</div>"
      ],
      "text/plain": [
       "         text             group\n",
       "count   18846             18846\n",
       "unique  18750                20\n",
       "top            rec.sport.hockey\n",
       "freq       30               999"
      ]
     },
     "execution_count": 8,
     "metadata": {},
     "output_type": "execute_result"
    }
   ],
   "source": [
    "data.describe(include='all')"
   ]
  },
  {
   "cell_type": "code",
   "execution_count": 9,
   "metadata": {},
   "outputs": [
    {
     "data": {
      "text/html": [
       "<div>\n",
       "<style scoped>\n",
       "    .dataframe tbody tr th:only-of-type {\n",
       "        vertical-align: middle;\n",
       "    }\n",
       "\n",
       "    .dataframe tbody tr th {\n",
       "        vertical-align: top;\n",
       "    }\n",
       "\n",
       "    .dataframe thead th {\n",
       "        text-align: right;\n",
       "    }\n",
       "</style>\n",
       "<table border=\"1\" class=\"dataframe\">\n",
       "  <thead>\n",
       "    <tr style=\"text-align: right;\">\n",
       "      <th></th>\n",
       "      <th>text</th>\n",
       "      <th>group</th>\n",
       "    </tr>\n",
       "  </thead>\n",
       "  <tbody>\n",
       "    <tr>\n",
       "      <td>0</td>\n",
       "      <td>morgan and guzman will have era's 1 run higher...</td>\n",
       "      <td>rec.sport.baseball</td>\n",
       "    </tr>\n",
       "    <tr>\n",
       "      <td>1</td>\n",
       "      <td>Well, I just got my Centris 610 yesterday.  It...</td>\n",
       "      <td>comp.sys.mac.hardware</td>\n",
       "    </tr>\n",
       "    <tr>\n",
       "      <td>2</td>\n",
       "      <td>History and classical methods. Modern methods....</td>\n",
       "      <td>sci.crypt</td>\n",
       "    </tr>\n",
       "    <tr>\n",
       "      <td>3</td>\n",
       "      <td>ATTENTION: Mac Quadra owners: Many storage ind...</td>\n",
       "      <td>comp.sys.mac.hardware</td>\n",
       "    </tr>\n",
       "    <tr>\n",
       "      <td>4</td>\n",
       "      <td>To show that the examples I and others have pr...</td>\n",
       "      <td>alt.atheism</td>\n",
       "    </tr>\n",
       "    <tr>\n",
       "      <td>...</td>\n",
       "      <td>...</td>\n",
       "      <td>...</td>\n",
       "    </tr>\n",
       "    <tr>\n",
       "      <td>18841</td>\n",
       "      <td>Why are circuit boards green?  The material us...</td>\n",
       "      <td>sci.electronics</td>\n",
       "    </tr>\n",
       "    <tr>\n",
       "      <td>18842</td>\n",
       "      <td>bike.  Luckily the guy stops a foot behind my ...</td>\n",
       "      <td>rec.motorcycles</td>\n",
       "    </tr>\n",
       "    <tr>\n",
       "      <td>18843</td>\n",
       "      <td>We were told that the resolution on the 5FGe c...</td>\n",
       "      <td>comp.sys.mac.hardware</td>\n",
       "    </tr>\n",
       "    <tr>\n",
       "      <td>18844</td>\n",
       "      <td>CAD Setup For Sale: G486PLB Local Bus Motherbo...</td>\n",
       "      <td>misc.forsale</td>\n",
       "    </tr>\n",
       "    <tr>\n",
       "      <td>18845</td>\n",
       "      <td>&lt;email&gt;  Path: eclipse!yktnews.watson.ibm.com!...</td>\n",
       "      <td>rec.autos</td>\n",
       "    </tr>\n",
       "  </tbody>\n",
       "</table>\n",
       "<p>18846 rows × 2 columns</p>\n",
       "</div>"
      ],
      "text/plain": [
       "                                                    text  \\\n",
       "0      morgan and guzman will have era's 1 run higher...   \n",
       "1      Well, I just got my Centris 610 yesterday.  It...   \n",
       "2      History and classical methods. Modern methods....   \n",
       "3      ATTENTION: Mac Quadra owners: Many storage ind...   \n",
       "4      To show that the examples I and others have pr...   \n",
       "...                                                  ...   \n",
       "18841  Why are circuit boards green?  The material us...   \n",
       "18842  bike.  Luckily the guy stops a foot behind my ...   \n",
       "18843  We were told that the resolution on the 5FGe c...   \n",
       "18844  CAD Setup For Sale: G486PLB Local Bus Motherbo...   \n",
       "18845  <email>  Path: eclipse!yktnews.watson.ibm.com!...   \n",
       "\n",
       "                       group  \n",
       "0         rec.sport.baseball  \n",
       "1      comp.sys.mac.hardware  \n",
       "2                  sci.crypt  \n",
       "3      comp.sys.mac.hardware  \n",
       "4                alt.atheism  \n",
       "...                      ...  \n",
       "18841        sci.electronics  \n",
       "18842        rec.motorcycles  \n",
       "18843  comp.sys.mac.hardware  \n",
       "18844           misc.forsale  \n",
       "18845              rec.autos  \n",
       "\n",
       "[18846 rows x 2 columns]"
      ]
     },
     "execution_count": 9,
     "metadata": {},
     "output_type": "execute_result"
    }
   ],
   "source": [
    "data"
   ]
  },
  {
   "cell_type": "markdown",
   "metadata": {},
   "source": [
    "# Split all data into train and test set"
   ]
  },
  {
   "cell_type": "code",
   "execution_count": 10,
   "metadata": {},
   "outputs": [],
   "source": [
    "from sklearn.model_selection import train_test_split\n",
    "\n",
    "train, test = train_test_split(data, test_size=0.2, random_state=42, stratify=data.group)"
   ]
  },
  {
   "cell_type": "markdown",
   "metadata": {},
   "source": [
    "#### Train Set:"
   ]
  },
  {
   "cell_type": "code",
   "execution_count": 11,
   "metadata": {},
   "outputs": [
    {
     "data": {
      "text/plain": [
       "(15076, 2)"
      ]
     },
     "execution_count": 11,
     "metadata": {},
     "output_type": "execute_result"
    }
   ],
   "source": [
    "train.shape"
   ]
  },
  {
   "cell_type": "markdown",
   "metadata": {},
   "source": [
    "#### Test Set:"
   ]
  },
  {
   "cell_type": "code",
   "execution_count": 12,
   "metadata": {},
   "outputs": [
    {
     "data": {
      "text/plain": [
       "(3770, 2)"
      ]
     },
     "execution_count": 12,
     "metadata": {},
     "output_type": "execute_result"
    }
   ],
   "source": [
    "test.shape"
   ]
  },
  {
   "cell_type": "markdown",
   "metadata": {},
   "source": [
    "#### Train-Set label distribution:"
   ]
  },
  {
   "cell_type": "code",
   "execution_count": 13,
   "metadata": {},
   "outputs": [
    {
     "data": {
      "text/plain": [
       "rec.sport.hockey            799\n",
       "soc.religion.christian      798\n",
       "rec.motorcycles             797\n",
       "rec.sport.baseball          795\n",
       "sci.crypt                   793\n",
       "sci.med                     792\n",
       "rec.autos                   792\n",
       "sci.space                   790\n",
       "comp.windows.x              790\n",
       "comp.os.ms-windows.misc     788\n",
       "sci.electronics             787\n",
       "comp.sys.ibm.pc.hardware    786\n",
       "misc.forsale                780\n",
       "comp.graphics               778\n",
       "comp.sys.mac.hardware       770\n",
       "talk.politics.mideast       752\n",
       "talk.politics.guns          728\n",
       "alt.atheism                 639\n",
       "talk.politics.misc          620\n",
       "talk.religion.misc          502\n",
       "Name: group, dtype: int64"
      ]
     },
     "execution_count": 13,
     "metadata": {},
     "output_type": "execute_result"
    }
   ],
   "source": [
    "train.group.value_counts()"
   ]
  },
  {
   "cell_type": "markdown",
   "metadata": {},
   "source": [
    "#### Test-Set label distribution"
   ]
  },
  {
   "cell_type": "code",
   "execution_count": 14,
   "metadata": {},
   "outputs": [
    {
     "data": {
      "text/plain": [
       "rec.sport.hockey            200\n",
       "rec.motorcycles             199\n",
       "rec.sport.baseball          199\n",
       "soc.religion.christian      199\n",
       "comp.windows.x              198\n",
       "sci.crypt                   198\n",
       "rec.autos                   198\n",
       "sci.med                     198\n",
       "comp.os.ms-windows.misc     197\n",
       "sci.electronics             197\n",
       "sci.space                   197\n",
       "comp.sys.ibm.pc.hardware    196\n",
       "misc.forsale                195\n",
       "comp.graphics               195\n",
       "comp.sys.mac.hardware       193\n",
       "talk.politics.mideast       188\n",
       "talk.politics.guns          182\n",
       "alt.atheism                 160\n",
       "talk.politics.misc          155\n",
       "talk.religion.misc          126\n",
       "Name: group, dtype: int64"
      ]
     },
     "execution_count": 14,
     "metadata": {},
     "output_type": "execute_result"
    }
   ],
   "source": [
    "test.group.value_counts()"
   ]
  },
  {
   "cell_type": "markdown",
   "metadata": {},
   "source": [
    "# Encode text using bag of words"
   ]
  },
  {
   "cell_type": "code",
   "execution_count": 16,
   "metadata": {},
   "outputs": [],
   "source": [
    "from sklearn.feature_extraction.text import CountVectorizer\n",
    "import pandas as pd\n",
    "\n",
    "cv = CountVectorizer(max_features=20).fit(train.text)"
   ]
  },
  {
   "cell_type": "code",
   "execution_count": 17,
   "metadata": {},
   "outputs": [
    {
     "data": {
      "text/plain": [
       "[(0, 'and'),\n",
       " (1, 'are'),\n",
       " (2, 'as'),\n",
       " (3, 'ax'),\n",
       " (4, 'be'),\n",
       " (5, 'email'),\n",
       " (6, 'for'),\n",
       " (7, 'have'),\n",
       " (8, 'in'),\n",
       " (9, 'is'),\n",
       " (10, 'it'),\n",
       " (11, 'not'),\n",
       " (12, 'of'),\n",
       " (13, 'on'),\n",
       " (14, 'that'),\n",
       " (15, 'the'),\n",
       " (16, 'this'),\n",
       " (17, 'to'),\n",
       " (18, 'with'),\n",
       " (19, 'you')]"
      ]
     },
     "execution_count": 17,
     "metadata": {},
     "output_type": "execute_result"
    }
   ],
   "source": [
    "keys = sorted((key, token) for token, key in cv.vocabulary_.items())\n",
    "keys"
   ]
  },
  {
   "cell_type": "code",
   "execution_count": 18,
   "metadata": {},
   "outputs": [
    {
     "data": {
      "text/html": [
       "<div>\n",
       "<style scoped>\n",
       "    .dataframe tbody tr th:only-of-type {\n",
       "        vertical-align: middle;\n",
       "    }\n",
       "\n",
       "    .dataframe tbody tr th {\n",
       "        vertical-align: top;\n",
       "    }\n",
       "\n",
       "    .dataframe thead th {\n",
       "        text-align: right;\n",
       "    }\n",
       "</style>\n",
       "<table border=\"1\" class=\"dataframe\">\n",
       "  <thead>\n",
       "    <tr style=\"text-align: right;\">\n",
       "      <th></th>\n",
       "      <th>and</th>\n",
       "      <th>are</th>\n",
       "      <th>as</th>\n",
       "      <th>ax</th>\n",
       "      <th>be</th>\n",
       "      <th>email</th>\n",
       "      <th>for</th>\n",
       "      <th>have</th>\n",
       "      <th>in</th>\n",
       "      <th>is</th>\n",
       "      <th>it</th>\n",
       "      <th>not</th>\n",
       "      <th>of</th>\n",
       "      <th>on</th>\n",
       "      <th>that</th>\n",
       "      <th>the</th>\n",
       "      <th>this</th>\n",
       "      <th>to</th>\n",
       "      <th>with</th>\n",
       "      <th>you</th>\n",
       "    </tr>\n",
       "  </thead>\n",
       "  <tbody>\n",
       "    <tr>\n",
       "      <td>0</td>\n",
       "      <td>0</td>\n",
       "      <td>0</td>\n",
       "      <td>0</td>\n",
       "      <td>0</td>\n",
       "      <td>0</td>\n",
       "      <td>1</td>\n",
       "      <td>0</td>\n",
       "      <td>0</td>\n",
       "      <td>0</td>\n",
       "      <td>1</td>\n",
       "      <td>0</td>\n",
       "      <td>0</td>\n",
       "      <td>0</td>\n",
       "      <td>0</td>\n",
       "      <td>0</td>\n",
       "      <td>0</td>\n",
       "      <td>1</td>\n",
       "      <td>0</td>\n",
       "      <td>0</td>\n",
       "      <td>0</td>\n",
       "    </tr>\n",
       "    <tr>\n",
       "      <td>1</td>\n",
       "      <td>0</td>\n",
       "      <td>0</td>\n",
       "      <td>0</td>\n",
       "      <td>0</td>\n",
       "      <td>1</td>\n",
       "      <td>0</td>\n",
       "      <td>0</td>\n",
       "      <td>0</td>\n",
       "      <td>0</td>\n",
       "      <td>0</td>\n",
       "      <td>0</td>\n",
       "      <td>1</td>\n",
       "      <td>0</td>\n",
       "      <td>0</td>\n",
       "      <td>0</td>\n",
       "      <td>0</td>\n",
       "      <td>0</td>\n",
       "      <td>0</td>\n",
       "      <td>0</td>\n",
       "      <td>0</td>\n",
       "    </tr>\n",
       "    <tr>\n",
       "      <td>2</td>\n",
       "      <td>1</td>\n",
       "      <td>0</td>\n",
       "      <td>0</td>\n",
       "      <td>0</td>\n",
       "      <td>1</td>\n",
       "      <td>0</td>\n",
       "      <td>0</td>\n",
       "      <td>0</td>\n",
       "      <td>0</td>\n",
       "      <td>0</td>\n",
       "      <td>0</td>\n",
       "      <td>0</td>\n",
       "      <td>0</td>\n",
       "      <td>0</td>\n",
       "      <td>0</td>\n",
       "      <td>0</td>\n",
       "      <td>0</td>\n",
       "      <td>0</td>\n",
       "      <td>1</td>\n",
       "      <td>2</td>\n",
       "    </tr>\n",
       "  </tbody>\n",
       "</table>\n",
       "</div>"
      ],
      "text/plain": [
       "   and  are  as  ax  be  email  for  have  in  is  it  not  of  on  that  the  \\\n",
       "0    0    0   0   0   0      1    0     0   0   1   0    0   0   0     0    0   \n",
       "1    0    0   0   0   1      0    0     0   0   0   0    1   0   0     0    0   \n",
       "2    1    0   0   0   1      0    0     0   0   0   0    0   0   0     0    0   \n",
       "\n",
       "   this  to  with  you  \n",
       "0     1   0     0    0  \n",
       "1     0   0     0    0  \n",
       "2     0   0     1    2  "
      ]
     },
     "execution_count": 18,
     "metadata": {},
     "output_type": "execute_result"
    }
   ],
   "source": [
    "samples = ['this is an email', 'be not afraid', 'may force be with you and you']\n",
    "encoded = pd.DataFrame(data = cv.transform(samples).toarray(), columns = [token for key, token in keys])\n",
    "encoded"
   ]
  },
  {
   "cell_type": "markdown",
   "metadata": {},
   "source": [
    "# Encode text using TF-IDF"
   ]
  },
  {
   "cell_type": "markdown",
   "metadata": {},
   "source": [
    "Consider a document containing 100 words wherein the word ’cat’ appears 3 times. Assume we have 10 million documents and the word ’cat’ appears in one thousand of these. Calculate TF-idf for the term ‘cat’\n",
    "1. Tf = 3 / 100 = 0.03\n",
    "2. Idf = log(10000000 / 1000) = 4.0\n",
    "3. TfIdf = Tf * Idf = 0.03 * 4.0 = 0.12"
   ]
  },
  {
   "cell_type": "code",
   "execution_count": 19,
   "metadata": {},
   "outputs": [],
   "source": [
    "from sklearn.feature_extraction.text import TfidfVectorizer\n",
    "\n",
    "tfidf = TfidfVectorizer(max_features=20).fit(train.text)"
   ]
  },
  {
   "cell_type": "code",
   "execution_count": 20,
   "metadata": {},
   "outputs": [
    {
     "data": {
      "text/plain": [
       "[(0, 'and'),\n",
       " (1, 'are'),\n",
       " (2, 'as'),\n",
       " (3, 'ax'),\n",
       " (4, 'be'),\n",
       " (5, 'email'),\n",
       " (6, 'for'),\n",
       " (7, 'have'),\n",
       " (8, 'in'),\n",
       " (9, 'is'),\n",
       " (10, 'it'),\n",
       " (11, 'not'),\n",
       " (12, 'of'),\n",
       " (13, 'on'),\n",
       " (14, 'that'),\n",
       " (15, 'the'),\n",
       " (16, 'this'),\n",
       " (17, 'to'),\n",
       " (18, 'with'),\n",
       " (19, 'you')]"
      ]
     },
     "execution_count": 20,
     "metadata": {},
     "output_type": "execute_result"
    }
   ],
   "source": [
    "keys = sorted((key, token) for token, key in tfidf.vocabulary_.items())\n",
    "keys"
   ]
  },
  {
   "cell_type": "code",
   "execution_count": 21,
   "metadata": {},
   "outputs": [
    {
     "data": {
      "text/html": [
       "<div>\n",
       "<style scoped>\n",
       "    .dataframe tbody tr th:only-of-type {\n",
       "        vertical-align: middle;\n",
       "    }\n",
       "\n",
       "    .dataframe tbody tr th {\n",
       "        vertical-align: top;\n",
       "    }\n",
       "\n",
       "    .dataframe thead th {\n",
       "        text-align: right;\n",
       "    }\n",
       "</style>\n",
       "<table border=\"1\" class=\"dataframe\">\n",
       "  <thead>\n",
       "    <tr style=\"text-align: right;\">\n",
       "      <th></th>\n",
       "      <th>and</th>\n",
       "      <th>are</th>\n",
       "      <th>as</th>\n",
       "      <th>ax</th>\n",
       "      <th>be</th>\n",
       "      <th>email</th>\n",
       "      <th>for</th>\n",
       "      <th>have</th>\n",
       "      <th>in</th>\n",
       "      <th>is</th>\n",
       "      <th>it</th>\n",
       "      <th>not</th>\n",
       "      <th>of</th>\n",
       "      <th>on</th>\n",
       "      <th>that</th>\n",
       "      <th>the</th>\n",
       "      <th>this</th>\n",
       "      <th>to</th>\n",
       "      <th>with</th>\n",
       "      <th>you</th>\n",
       "    </tr>\n",
       "  </thead>\n",
       "  <tbody>\n",
       "    <tr>\n",
       "      <td>0</td>\n",
       "      <td>0.000000</td>\n",
       "      <td>0.0</td>\n",
       "      <td>0.0</td>\n",
       "      <td>0.0</td>\n",
       "      <td>0.000000</td>\n",
       "      <td>0.580743</td>\n",
       "      <td>0.0</td>\n",
       "      <td>0.0</td>\n",
       "      <td>0.0</td>\n",
       "      <td>0.525736</td>\n",
       "      <td>0.0</td>\n",
       "      <td>0.000000</td>\n",
       "      <td>0.0</td>\n",
       "      <td>0.0</td>\n",
       "      <td>0.0</td>\n",
       "      <td>0.0</td>\n",
       "      <td>0.621563</td>\n",
       "      <td>0.0</td>\n",
       "      <td>0.000000</td>\n",
       "      <td>0.000000</td>\n",
       "    </tr>\n",
       "    <tr>\n",
       "      <td>1</td>\n",
       "      <td>0.000000</td>\n",
       "      <td>0.0</td>\n",
       "      <td>0.0</td>\n",
       "      <td>0.0</td>\n",
       "      <td>0.696696</td>\n",
       "      <td>0.000000</td>\n",
       "      <td>0.0</td>\n",
       "      <td>0.0</td>\n",
       "      <td>0.0</td>\n",
       "      <td>0.000000</td>\n",
       "      <td>0.0</td>\n",
       "      <td>0.717367</td>\n",
       "      <td>0.0</td>\n",
       "      <td>0.0</td>\n",
       "      <td>0.0</td>\n",
       "      <td>0.0</td>\n",
       "      <td>0.000000</td>\n",
       "      <td>0.0</td>\n",
       "      <td>0.000000</td>\n",
       "      <td>0.000000</td>\n",
       "    </tr>\n",
       "    <tr>\n",
       "      <td>2</td>\n",
       "      <td>0.297537</td>\n",
       "      <td>0.0</td>\n",
       "      <td>0.0</td>\n",
       "      <td>0.0</td>\n",
       "      <td>0.391901</td>\n",
       "      <td>0.000000</td>\n",
       "      <td>0.0</td>\n",
       "      <td>0.0</td>\n",
       "      <td>0.0</td>\n",
       "      <td>0.000000</td>\n",
       "      <td>0.0</td>\n",
       "      <td>0.000000</td>\n",
       "      <td>0.0</td>\n",
       "      <td>0.0</td>\n",
       "      <td>0.0</td>\n",
       "      <td>0.0</td>\n",
       "      <td>0.000000</td>\n",
       "      <td>0.0</td>\n",
       "      <td>0.396685</td>\n",
       "      <td>0.774936</td>\n",
       "    </tr>\n",
       "  </tbody>\n",
       "</table>\n",
       "</div>"
      ],
      "text/plain": [
       "        and  are   as   ax        be     email  for  have   in        is   it  \\\n",
       "0  0.000000  0.0  0.0  0.0  0.000000  0.580743  0.0   0.0  0.0  0.525736  0.0   \n",
       "1  0.000000  0.0  0.0  0.0  0.696696  0.000000  0.0   0.0  0.0  0.000000  0.0   \n",
       "2  0.297537  0.0  0.0  0.0  0.391901  0.000000  0.0   0.0  0.0  0.000000  0.0   \n",
       "\n",
       "        not   of   on  that  the      this   to      with       you  \n",
       "0  0.000000  0.0  0.0   0.0  0.0  0.621563  0.0  0.000000  0.000000  \n",
       "1  0.717367  0.0  0.0   0.0  0.0  0.000000  0.0  0.000000  0.000000  \n",
       "2  0.000000  0.0  0.0   0.0  0.0  0.000000  0.0  0.396685  0.774936  "
      ]
     },
     "execution_count": 21,
     "metadata": {},
     "output_type": "execute_result"
    }
   ],
   "source": [
    "samples = ['this is an email', 'be not afraid', 'may force be with you and you']\n",
    "encoded = pd.DataFrame(data = tfidf.transform(samples).toarray(), columns = [token for key, token in keys])\n",
    "encoded"
   ]
  },
  {
   "cell_type": "markdown",
   "metadata": {},
   "source": [
    "#### Vocabulary"
   ]
  },
  {
   "cell_type": "code",
   "execution_count": 22,
   "metadata": {},
   "outputs": [
    {
     "data": {
      "text/plain": [
       "10000"
      ]
     },
     "execution_count": 22,
     "metadata": {},
     "output_type": "execute_result"
    }
   ],
   "source": [
    "tfidf = TfidfVectorizer(max_features=10000).fit(train.text)\n",
    "len(tfidf.vocabulary_)"
   ]
  },
  {
   "cell_type": "markdown",
   "metadata": {},
   "source": [
    "#### Encode train and test sets using same vocabulary"
   ]
  },
  {
   "cell_type": "code",
   "execution_count": 23,
   "metadata": {},
   "outputs": [
    {
     "name": "stdout",
     "output_type": "stream",
     "text": [
      "X_train shape: (15076, 10000)\n",
      "X_test shape: (3770, 10000)\n"
     ]
    }
   ],
   "source": [
    "X_train = tfidf.transform(train.text).toarray()\n",
    "print('X_train shape: %s' % (X_train.shape,))\n",
    "\n",
    "X_test = tfidf.transform(test.text).toarray()\n",
    "print('X_test shape: %s' % (X_test.shape,))"
   ]
  },
  {
   "cell_type": "markdown",
   "metadata": {},
   "source": [
    "# Convert labels to integer values"
   ]
  },
  {
   "cell_type": "markdown",
   "metadata": {},
   "source": [
    "#### Fit label encoder:"
   ]
  },
  {
   "cell_type": "code",
   "execution_count": 24,
   "metadata": {},
   "outputs": [],
   "source": [
    "from sklearn.preprocessing import LabelEncoder\n",
    "\n",
    "label_encoder = LabelEncoder().fit(train.group)"
   ]
  },
  {
   "cell_type": "markdown",
   "metadata": {},
   "source": [
    "#### Known labels:"
   ]
  },
  {
   "cell_type": "code",
   "execution_count": 25,
   "metadata": {},
   "outputs": [
    {
     "data": {
      "text/plain": [
       "array(['alt.atheism', 'comp.graphics', 'comp.os.ms-windows.misc',\n",
       "       'comp.sys.ibm.pc.hardware', 'comp.sys.mac.hardware',\n",
       "       'comp.windows.x', 'misc.forsale', 'rec.autos', 'rec.motorcycles',\n",
       "       'rec.sport.baseball', 'rec.sport.hockey', 'sci.crypt',\n",
       "       'sci.electronics', 'sci.med', 'sci.space',\n",
       "       'soc.religion.christian', 'talk.politics.guns',\n",
       "       'talk.politics.mideast', 'talk.politics.misc',\n",
       "       'talk.religion.misc'], dtype=object)"
      ]
     },
     "execution_count": 25,
     "metadata": {},
     "output_type": "execute_result"
    }
   ],
   "source": [
    "label_encoder.classes_"
   ]
  },
  {
   "cell_type": "markdown",
   "metadata": {},
   "source": [
    "#### Convert labels using encoder:"
   ]
  },
  {
   "cell_type": "code",
   "execution_count": 26,
   "metadata": {},
   "outputs": [
    {
     "name": "stdout",
     "output_type": "stream",
     "text": [
      "Y_train shape: (15076,)\n",
      "Y_test shape: (3770,)\n"
     ]
    }
   ],
   "source": [
    "Y_train = label_encoder.transform(train.group)\n",
    "print('Y_train shape: %s' % (Y_train.shape,))\n",
    "\n",
    "Y_test = label_encoder.transform(test.group)\n",
    "print('Y_test shape: %s' % (Y_test.shape,))"
   ]
  },
  {
   "cell_type": "markdown",
   "metadata": {},
   "source": [
    "<h1>Castom Classificator</h1>"
   ]
  },
  {
   "cell_type": "code",
   "execution_count": 43,
   "metadata": {},
   "outputs": [],
   "source": [
    "clsC = NeuralNet(normalize = True, learning_rate = 0.01, num_iter = 1000,num_node=[60],accuracy=0.00000001,beta=0.8)"
   ]
  },
  {
   "cell_type": "code",
   "execution_count": 44,
   "metadata": {},
   "outputs": [
    {
     "name": "stderr",
     "output_type": "stream",
     "text": [
      "C:\\Users\\nasty\\Anaconda3\\lib\\site-packages\\sklearn\\preprocessing\\_encoders.py:415: FutureWarning: The handling of integer data will change in version 0.22. Currently, the categories are determined based on the range [0, max(values)], while in the future they will be determined based on the unique values.\n",
      "If you want the future behaviour and silence this warning, you can specify \"categories='auto'\".\n",
      "In case you used a LabelEncoder before this OneHotEncoder to convert the categories to integers, then you can now use the OneHotEncoder directly.\n",
      "  warnings.warn(msg, FutureWarning)\n"
     ]
    }
   ],
   "source": [
    "encoder = OneHotEncoder()\n",
    "Y_train_e = encoder.fit_transform(Y_train.reshape((Y_train.shape[0], 1))).toarray()"
   ]
  },
  {
   "cell_type": "code",
   "execution_count": 45,
   "metadata": {},
   "outputs": [
    {
     "name": "stdout",
     "output_type": "stream",
     "text": [
      "0-th iteration: 0.15829622787383935\n",
      "100-th iteration: 0.009990790523064114\n",
      "200-th iteration: 0.005463092860667361\n",
      "300-th iteration: 0.0042497385884468575\n",
      "400-th iteration: 0.0034853954732578197\n",
      "500-th iteration: 0.003134183205038876\n",
      "600-th iteration: 0.0026464916839642307\n",
      "700-th iteration: 0.0023870726197341647\n",
      "800-th iteration: 0.00284483936795149\n",
      "900-th iteration: 0.0023328835032115354\n"
     ]
    },
    {
     "data": {
      "image/png": "[encoded data removed]",
      "text/plain": [
       "<Figure size 432x288 with 1 Axes>"
      ]
     },
     "metadata": {
      "needs_background": "light"
     },
     "output_type": "display_data"
    }
   ],
   "source": [
    "clsC.fit(X_train, Y_train_e)"
   ]
  },
  {
   "cell_type": "code",
   "execution_count": 55,
   "metadata": {},
   "outputs": [],
   "source": [
    "y_train_pred=clsC.predict(X_train)"
   ]
  },
  {
   "cell_type": "code",
   "execution_count": 64,
   "metadata": {},
   "outputs": [
    {
     "name": "stdout",
     "output_type": "stream",
     "text": [
      "accuracy:  0.9868665428495622\n",
      "precision:  0.9868665428495622\n",
      "recall:  0.9868665428495622\n"
     ]
    }
   ],
   "source": [
    "accuracy_ts = accuracy_score(Y_train, y_train_pred)\n",
    "precision_ts = precision_score(Y_train, y_train_pred, average='micro')\n",
    "recall_ts = recall_score(Y_train, y_train_pred, average='micro')\n",
    "print('accuracy: ', accuracy_ts)\n",
    "print('precision: ', precision_ts)\n",
    "print('recall: ', recall_ts)"
   ]
  },
  {
   "cell_type": "code",
   "execution_count": 50,
   "metadata": {},
   "outputs": [
    {
     "name": "stdout",
     "output_type": "stream",
     "text": [
      "                          precision    recall  f1-score   support\n",
      "\n",
      "             alt.atheism       0.94      0.99      0.97       639\n",
      "           comp.graphics       0.99      0.98      0.98       778\n",
      " comp.os.ms-windows.misc       0.97      0.97      0.97       788\n",
      "comp.sys.ibm.pc.hardware       0.98      0.98      0.98       786\n",
      "   comp.sys.mac.hardware       0.99      0.98      0.99       770\n",
      "          comp.windows.x       1.00      0.97      0.98       790\n",
      "            misc.forsale       0.97      0.97      0.97       780\n",
      "               rec.autos       0.98      0.99      0.99       792\n",
      "         rec.motorcycles       1.00      0.99      1.00       797\n",
      "      rec.sport.baseball       0.99      0.99      0.99       795\n",
      "        rec.sport.hockey       1.00      0.99      1.00       799\n",
      "               sci.crypt       1.00      0.99      1.00       793\n",
      "         sci.electronics       0.99      0.99      0.99       787\n",
      "                 sci.med       1.00      0.99      1.00       792\n",
      "               sci.space       1.00      0.99      0.99       790\n",
      "  soc.religion.christian       0.99      0.99      0.99       798\n",
      "      talk.politics.guns       0.98      0.99      0.98       728\n",
      "   talk.politics.mideast       0.98      1.00      0.99       752\n",
      "      talk.politics.misc       0.99      0.99      0.99       620\n",
      "      talk.religion.misc       0.99      0.98      0.99       502\n",
      "\n",
      "                accuracy                           0.99     15076\n",
      "               macro avg       0.99      0.99      0.99     15076\n",
      "            weighted avg       0.99      0.99      0.99     15076\n",
      "\n"
     ]
    }
   ],
   "source": [
    "print(classification_report(Y_train, y_train_pred,target_names=label_encoder.classes_))"
   ]
  },
  {
   "cell_type": "code",
   "execution_count": 53,
   "metadata": {},
   "outputs": [
    {
     "name": "stdout",
     "output_type": "stream",
     "text": [
      "[[635   0   0   0   0   0   0   0   0   0   0   0   0   0   0   1   1   0\n",
      "    1   1]\n",
      " [  4 760   7   3   0   1   3   0   0   0   0   0   0   0   0   0   0   0\n",
      "    0   0]\n",
      " [  5   7 765   5   0   1   0   1   0   0   0   0   1   1   0   0   0   2\n",
      "    0   0]\n",
      " [  3   1   3 767   4   0   6   1   0   0   0   0   0   0   0   0   1   0\n",
      "    0   0]\n",
      " [  3   1   1   2 757   0   3   2   0   0   0   0   0   0   0   0   0   1\n",
      "    0   0]\n",
      " [  5   1   5   0   0 768   0   0   0   0   0   0   2   0   0   0   1   8\n",
      "    0   0]\n",
      " [  5   0   0   0   1   0 758   4   1   1   0   0   5   0   0   0   1   3\n",
      "    1   0]\n",
      " [  2   0   0   0   0   0   0 788   0   0   0   0   1   0   0   0   0   1\n",
      "    0   0]\n",
      " [  1   0   0   0   0   0   0   0 793   1   0   0   0   0   0   0   0   2\n",
      "    0   0]\n",
      " [  2   0   0   0   0   0   0   1   0 789   1   0   1   0   0   0   1   0\n",
      "    0   0]\n",
      " [  0   0   0   0   0   0   0   1   0   2 794   0   0   0   0   1   0   1\n",
      "    0   0]\n",
      " [  0   0   1   0   0   0   0   0   0   0   0 789   0   0   0   0   2   0\n",
      "    0   1]\n",
      " [  0   0   0   2   1   0   2   1   0   1   0   0 778   0   1   1   0   0\n",
      "    0   0]\n",
      " [  2   1   0   0   0   1   0   0   0   0   0   0   0 788   0   0   0   0\n",
      "    0   0]\n",
      " [  1   0   0   0   0   0   3   1   0   0   0   0   0   1 782   0   0   0\n",
      "    0   2]\n",
      " [  2   0   0   0   0   0   1   0   1   1   0   1   1   0   0 790   1   0\n",
      "    0   0]\n",
      " [  0   0   3   0   0   0   0   1   0   0   0   0   0   0   0   0 721   1\n",
      "    2   0]\n",
      " [  0   0   0   0   0   0   0   0   0   0   0   0   0   0   0   1   0 751\n",
      "    0   0]\n",
      " [  2   0   0   0   0   0   2   0   1   0   0   0   0   0   0   0   4   0\n",
      "  611   0]\n",
      " [  2   0   0   0   0   0   1   0   0   0   0   0   0   0   0   1   3   0\n",
      "    1 494]]\n"
     ]
    }
   ],
   "source": [
    "cm = confusion_matrix(Y_train, y_train_pred) \n",
    "print(cm)"
   ]
  },
  {
   "cell_type": "code",
   "execution_count": 65,
   "metadata": {},
   "outputs": [],
   "source": [
    "y_test_pred=clsC.predict(X_test)"
   ]
  },
  {
   "cell_type": "code",
   "execution_count": 66,
   "metadata": {},
   "outputs": [],
   "source": [
    "accuracy_ts = accuracy_score(Y_test, y_test_pred)\n",
    "precision_ts = precision_score(Y_test, y_test_pred, average='micro')\n",
    "recall_ts = recall_score(Y_test, y_test_pred, average='micro')"
   ]
  },
  {
   "cell_type": "code",
   "execution_count": 68,
   "metadata": {},
   "outputs": [
    {
     "name": "stdout",
     "output_type": "stream",
     "text": [
      "accuracy:  0.7973474801061008\n",
      "precision:  0.7973474801061008\n",
      "recall:  0.7973474801061008\n"
     ]
    }
   ],
   "source": [
    "print('accuracy: ', accuracy_ts)\n",
    "print('precision: ', precision_ts)\n",
    "print('recall: ', recall_ts)"
   ]
  },
  {
   "cell_type": "code",
   "execution_count": 67,
   "metadata": {},
   "outputs": [
    {
     "name": "stdout",
     "output_type": "stream",
     "text": [
      "                          precision    recall  f1-score   support\n",
      "\n",
      "             alt.atheism       0.76      0.72      0.74       160\n",
      "           comp.graphics       0.75      0.72      0.74       195\n",
      " comp.os.ms-windows.misc       0.69      0.75      0.72       197\n",
      "comp.sys.ibm.pc.hardware       0.69      0.72      0.71       196\n",
      "   comp.sys.mac.hardware       0.71      0.79      0.75       193\n",
      "          comp.windows.x       0.86      0.74      0.80       198\n",
      "            misc.forsale       0.73      0.74      0.73       195\n",
      "               rec.autos       0.84      0.80      0.82       198\n",
      "         rec.motorcycles       0.86      0.86      0.86       199\n",
      "      rec.sport.baseball       0.87      0.89      0.88       199\n",
      "        rec.sport.hockey       0.90      0.90      0.90       200\n",
      "               sci.crypt       0.93      0.85      0.89       198\n",
      "         sci.electronics       0.69      0.78      0.73       197\n",
      "                 sci.med       0.87      0.84      0.86       198\n",
      "               sci.space       0.85      0.84      0.84       197\n",
      "  soc.religion.christian       0.84      0.79      0.82       199\n",
      "      talk.politics.guns       0.76      0.86      0.81       182\n",
      "   talk.politics.mideast       0.88      0.94      0.90       188\n",
      "      talk.politics.misc       0.77      0.72      0.74       155\n",
      "      talk.religion.misc       0.66      0.59      0.62       126\n",
      "\n",
      "                accuracy                           0.80      3770\n",
      "               macro avg       0.80      0.79      0.79      3770\n",
      "            weighted avg       0.80      0.80      0.80      3770\n",
      "\n"
     ]
    }
   ],
   "source": [
    "print(classification_report(Y_test, y_test_pred,target_names=label_encoder.classes_))"
   ]
  },
  {
   "cell_type": "code",
   "execution_count": 69,
   "metadata": {},
   "outputs": [
    {
     "name": "stdout",
     "output_type": "stream",
     "text": [
      "[[116   1   2   0   2   0   1   0   0   1   0   2   3   2   4   7   2   1\n",
      "    3  13]\n",
      " [  1 141  14   6   6   9   3   2   1   0   0   1   4   2   2   0   1   1\n",
      "    0   1]\n",
      " [  0   8 148  15   7   4   6   0   0   1   0   0   3   2   0   1   0   1\n",
      "    1   0]\n",
      " [  0   3  12 142  16   0   7   2   1   0   0   0   4   0   3   1   2   1\n",
      "    1   1]\n",
      " [  1   3   9  11 153   0   3   2   1   1   0   2   5   0   0   0   0   0\n",
      "    2   0]\n",
      " [  1  15  10   5   5 146   1   2   1   1   3   1   2   3   1   0   0   0\n",
      "    1   0]\n",
      " [  3   4   3  12   7   1 144   6   1   0   1   0   9   0   2   0   1   0\n",
      "    1   0]\n",
      " [  0   0   3   4   2   1   4 159   7   3   1   0   5   1   3   2   1   0\n",
      "    2   0]\n",
      " [  1   0   1   1   1   0   2   7 171   2   2   0   3   2   2   0   3   1\n",
      "    0   0]\n",
      " [  0   0   0   1   0   0   2   1   2 178   5   0   4   0   1   0   2   2\n",
      "    0   1]\n",
      " [  0   0   1   0   2   1   1   1   2   7 179   0   3   0   1   0   0   1\n",
      "    1   0]\n",
      " [  1   4   1   1   1   1   2   1   1   1   0 168   4   1   2   1   3   0\n",
      "    2   3]\n",
      " [  0   3   2   3   6   2  11   0   1   2   4   0 153   2   4   2   0   1\n",
      "    0   1]\n",
      " [  1   2   2   2   3   0   1   3   3   0   0   0   4 167   1   4   2   2\n",
      "    1   0]\n",
      " [  1   2   2   0   1   0   5   2   1   2   0   1   6   1 165   0   2   4\n",
      "    1   1]\n",
      " [  6   0   1   0   1   0   0   0   0   2   1   1   2   3   2 158   6   4\n",
      "    3   9]\n",
      " [  0   0   2   1   0   0   0   0   1   0   0   1   4   1   0   1 157   2\n",
      "    8   4]\n",
      " [  2   0   1   0   0   1   1   0   0   0   1   2   0   0   0   0   2 176\n",
      "    2   0]\n",
      " [  3   0   0   1   2   1   2   0   2   2   1   2   3   2   1   2  13   3\n",
      "  111   4]\n",
      " [ 16   1   0   0   0   2   2   1   2   1   0   0   1   2   1   9   9   1\n",
      "    4  74]]\n"
     ]
    }
   ],
   "source": [
    "cm = confusion_matrix(Y_test, y_test_pred)\n",
    "print(cm)"
   ]
  },
  {
   "cell_type": "markdown",
   "metadata": {},
   "source": [
    "<h1>MultinomialNB</h1>"
   ]
  },
  {
   "cell_type": "code",
   "execution_count": 47,
   "metadata": {},
   "outputs": [],
   "source": [
    "from sklearn.naive_bayes import MultinomialNB\n",
    "\n",
    "clf = MultinomialNB().fit(X_train, Y_train)"
   ]
  },
  {
   "cell_type": "code",
   "execution_count": 48,
   "metadata": {},
   "outputs": [
    {
     "name": "stdout",
     "output_type": "stream",
     "text": [
      "                          precision    recall  f1-score   support\n",
      "\n",
      "             alt.atheism       0.79      0.58      0.67       160\n",
      "           comp.graphics       0.72      0.79      0.76       195\n",
      " comp.os.ms-windows.misc       0.77      0.77      0.77       197\n",
      "comp.sys.ibm.pc.hardware       0.69      0.79      0.73       196\n",
      "   comp.sys.mac.hardware       0.85      0.77      0.81       193\n",
      "          comp.windows.x       0.84      0.82      0.83       198\n",
      "            misc.forsale       0.89      0.75      0.81       195\n",
      "               rec.autos       0.87      0.86      0.86       198\n",
      "         rec.motorcycles       0.88      0.90      0.89       199\n",
      "      rec.sport.baseball       0.95      0.95      0.95       199\n",
      "        rec.sport.hockey       0.93      0.93      0.93       200\n",
      "               sci.crypt       0.85      0.91      0.88       198\n",
      "         sci.electronics       0.82      0.77      0.79       197\n",
      "                 sci.med       0.94      0.88      0.91       198\n",
      "               sci.space       0.91      0.91      0.91       197\n",
      "  soc.religion.christian       0.52      0.96      0.68       199\n",
      "      talk.politics.guns       0.67      0.95      0.79       182\n",
      "   talk.politics.mideast       0.89      0.92      0.90       188\n",
      "      talk.politics.misc       0.94      0.52      0.67       155\n",
      "      talk.religion.misc       1.00      0.04      0.08       126\n",
      "\n",
      "                accuracy                           0.81      3770\n",
      "               macro avg       0.84      0.79      0.78      3770\n",
      "            weighted avg       0.83      0.81      0.80      3770\n",
      "\n"
     ]
    }
   ],
   "source": [
    "y_test_pred=clf.predict(X_test)\n",
    "print(classification_report(Y_test, y_test_pred,target_names=label_encoder.classes_))"
   ]
  },
  {
   "cell_type": "code",
   "execution_count": 56,
   "metadata": {},
   "outputs": [],
   "source": [
    "y_test_pred=clsC.predict(X_test)"
   ]
  },
  {
   "cell_type": "code",
   "execution_count": 58,
   "metadata": {},
   "outputs": [
    {
     "name": "stdout",
     "output_type": "stream",
     "text": [
      "accuracy:  0.7973474801061008\n",
      "precision:  0.7973474801061008\n",
      "recall:  0.7973474801061008\n"
     ]
    }
   ],
   "source": [
    "accuracy_ts = accuracy_score(Y_test, y_test_pred)\n",
    "precision_ts = precision_score(Y_test, y_test_pred, average='micro')\n",
    "recall_ts = recall_score(Y_test, y_test_pred, average='micro')\n",
    "print('accuracy: ', accuracy_ts)\n",
    "print('precision: ', precision_ts)\n",
    "print('recall: ', recall_ts)"
   ]
  },
  {
   "cell_type": "code",
   "execution_count": 59,
   "metadata": {},
   "outputs": [
    {
     "name": "stdout",
     "output_type": "stream",
     "text": [
      "                          precision    recall  f1-score   support\n",
      "\n",
      "             alt.atheism       0.76      0.72      0.74       160\n",
      "           comp.graphics       0.75      0.72      0.74       195\n",
      " comp.os.ms-windows.misc       0.69      0.75      0.72       197\n",
      "comp.sys.ibm.pc.hardware       0.69      0.72      0.71       196\n",
      "   comp.sys.mac.hardware       0.71      0.79      0.75       193\n",
      "          comp.windows.x       0.86      0.74      0.80       198\n",
      "            misc.forsale       0.73      0.74      0.73       195\n",
      "               rec.autos       0.84      0.80      0.82       198\n",
      "         rec.motorcycles       0.86      0.86      0.86       199\n",
      "      rec.sport.baseball       0.87      0.89      0.88       199\n",
      "        rec.sport.hockey       0.90      0.90      0.90       200\n",
      "               sci.crypt       0.93      0.85      0.89       198\n",
      "         sci.electronics       0.69      0.78      0.73       197\n",
      "                 sci.med       0.87      0.84      0.86       198\n",
      "               sci.space       0.85      0.84      0.84       197\n",
      "  soc.religion.christian       0.84      0.79      0.82       199\n",
      "      talk.politics.guns       0.76      0.86      0.81       182\n",
      "   talk.politics.mideast       0.88      0.94      0.90       188\n",
      "      talk.politics.misc       0.77      0.72      0.74       155\n",
      "      talk.religion.misc       0.66      0.59      0.62       126\n",
      "\n",
      "                accuracy                           0.80      3770\n",
      "               macro avg       0.80      0.79      0.79      3770\n",
      "            weighted avg       0.80      0.80      0.80      3770\n",
      "\n"
     ]
    }
   ],
   "source": [
    "print(classification_report(Y_test, y_test_pred,target_names=label_encoder.classes_))"
   ]
  },
  {
   "cell_type": "code",
   "execution_count": 60,
   "metadata": {},
   "outputs": [
    {
     "name": "stdout",
     "output_type": "stream",
     "text": [
      "[[116   1   2   0   2   0   1   0   0   1   0   2   3   2   4   7   2   1\n",
      "    3  13]\n",
      " [  1 141  14   6   6   9   3   2   1   0   0   1   4   2   2   0   1   1\n",
      "    0   1]\n",
      " [  0   8 148  15   7   4   6   0   0   1   0   0   3   2   0   1   0   1\n",
      "    1   0]\n",
      " [  0   3  12 142  16   0   7   2   1   0   0   0   4   0   3   1   2   1\n",
      "    1   1]\n",
      " [  1   3   9  11 153   0   3   2   1   1   0   2   5   0   0   0   0   0\n",
      "    2   0]\n",
      " [  1  15  10   5   5 146   1   2   1   1   3   1   2   3   1   0   0   0\n",
      "    1   0]\n",
      " [  3   4   3  12   7   1 144   6   1   0   1   0   9   0   2   0   1   0\n",
      "    1   0]\n",
      " [  0   0   3   4   2   1   4 159   7   3   1   0   5   1   3   2   1   0\n",
      "    2   0]\n",
      " [  1   0   1   1   1   0   2   7 171   2   2   0   3   2   2   0   3   1\n",
      "    0   0]\n",
      " [  0   0   0   1   0   0   2   1   2 178   5   0   4   0   1   0   2   2\n",
      "    0   1]\n",
      " [  0   0   1   0   2   1   1   1   2   7 179   0   3   0   1   0   0   1\n",
      "    1   0]\n",
      " [  1   4   1   1   1   1   2   1   1   1   0 168   4   1   2   1   3   0\n",
      "    2   3]\n",
      " [  0   3   2   3   6   2  11   0   1   2   4   0 153   2   4   2   0   1\n",
      "    0   1]\n",
      " [  1   2   2   2   3   0   1   3   3   0   0   0   4 167   1   4   2   2\n",
      "    1   0]\n",
      " [  1   2   2   0   1   0   5   2   1   2   0   1   6   1 165   0   2   4\n",
      "    1   1]\n",
      " [  6   0   1   0   1   0   0   0   0   2   1   1   2   3   2 158   6   4\n",
      "    3   9]\n",
      " [  0   0   2   1   0   0   0   0   1   0   0   1   4   1   0   1 157   2\n",
      "    8   4]\n",
      " [  2   0   1   0   0   1   1   0   0   0   1   2   0   0   0   0   2 176\n",
      "    2   0]\n",
      " [  3   0   0   1   2   1   2   0   2   2   1   2   3   2   1   2  13   3\n",
      "  111   4]\n",
      " [ 16   1   0   0   0   2   2   1   2   1   0   0   1   2   1   9   9   1\n",
      "    4  74]]\n"
     ]
    }
   ],
   "source": [
    "cm = confusion_matrix(Y_test, y_test_pred) \n",
    "print(cm)"
   ]
  },
  {
   "cell_type": "markdown",
   "metadata": {},
   "source": [
    "# Naive Bayes"
   ]
  },
  {
   "cell_type": "code",
   "execution_count": 27,
   "metadata": {},
   "outputs": [],
   "source": [
    "from sklearn.naive_bayes import MultinomialNB\n",
    "\n",
    "clf = MultinomialNB().fit(X_train, Y_train)"
   ]
  },
  {
   "cell_type": "markdown",
   "metadata": {},
   "source": [
    "#### Train report:"
   ]
  },
  {
   "cell_type": "code",
   "execution_count": 28,
   "metadata": {},
   "outputs": [
    {
     "name": "stdout",
     "output_type": "stream",
     "text": [
      "                          precision    recall  f1-score   support\n",
      "\n",
      "             alt.atheism       0.88      0.72      0.79       639\n",
      "           comp.graphics       0.84      0.85      0.85       778\n",
      " comp.os.ms-windows.misc       0.83      0.86      0.85       788\n",
      "comp.sys.ibm.pc.hardware       0.79      0.88      0.83       786\n",
      "   comp.sys.mac.hardware       0.92      0.89      0.91       770\n",
      "          comp.windows.x       0.92      0.88      0.90       790\n",
      "            misc.forsale       0.90      0.80      0.85       780\n",
      "               rec.autos       0.91      0.94      0.92       792\n",
      "         rec.motorcycles       0.96      0.95      0.96       797\n",
      "      rec.sport.baseball       0.96      0.97      0.97       795\n",
      "        rec.sport.hockey       0.94      0.98      0.96       799\n",
      "               sci.crypt       0.91      0.95      0.93       793\n",
      "         sci.electronics       0.88      0.84      0.86       787\n",
      "                 sci.med       0.94      0.95      0.95       792\n",
      "               sci.space       0.95      0.93      0.94       790\n",
      "  soc.religion.christian       0.59      0.97      0.74       798\n",
      "      talk.politics.guns       0.75      0.96      0.84       728\n",
      "   talk.politics.mideast       0.92      0.95      0.94       752\n",
      "      talk.politics.misc       0.97      0.67      0.79       620\n",
      "      talk.religion.misc       1.00      0.10      0.18       502\n",
      "\n",
      "                accuracy                           0.87     15076\n",
      "               macro avg       0.89      0.85      0.85     15076\n",
      "            weighted avg       0.89      0.87      0.86     15076\n",
      "\n"
     ]
    }
   ],
   "source": [
    "print(classification_report(Y_train, clf.predict(X_train), target_names=label_encoder.classes_))"
   ]
  },
  {
   "cell_type": "markdown",
   "metadata": {},
   "source": [
    "#### Test report:"
   ]
  },
  {
   "cell_type": "code",
   "execution_count": 29,
   "metadata": {},
   "outputs": [
    {
     "name": "stdout",
     "output_type": "stream",
     "text": [
      "                          precision    recall  f1-score   support\n",
      "\n",
      "             alt.atheism       0.79      0.58      0.67       160\n",
      "           comp.graphics       0.72      0.79      0.76       195\n",
      " comp.os.ms-windows.misc       0.77      0.77      0.77       197\n",
      "comp.sys.ibm.pc.hardware       0.69      0.79      0.73       196\n",
      "   comp.sys.mac.hardware       0.85      0.77      0.81       193\n",
      "          comp.windows.x       0.84      0.82      0.83       198\n",
      "            misc.forsale       0.89      0.75      0.81       195\n",
      "               rec.autos       0.87      0.86      0.86       198\n",
      "         rec.motorcycles       0.88      0.90      0.89       199\n",
      "      rec.sport.baseball       0.95      0.95      0.95       199\n",
      "        rec.sport.hockey       0.93      0.93      0.93       200\n",
      "               sci.crypt       0.85      0.91      0.88       198\n",
      "         sci.electronics       0.82      0.77      0.79       197\n",
      "                 sci.med       0.94      0.88      0.91       198\n",
      "               sci.space       0.91      0.91      0.91       197\n",
      "  soc.religion.christian       0.52      0.96      0.68       199\n",
      "      talk.politics.guns       0.67      0.95      0.79       182\n",
      "   talk.politics.mideast       0.89      0.92      0.90       188\n",
      "      talk.politics.misc       0.94      0.52      0.67       155\n",
      "      talk.religion.misc       1.00      0.04      0.08       126\n",
      "\n",
      "                accuracy                           0.81      3770\n",
      "               macro avg       0.84      0.79      0.78      3770\n",
      "            weighted avg       0.83      0.81      0.80      3770\n",
      "\n"
     ]
    }
   ],
   "source": [
    "print(classification_report(Y_test, clf.predict(X_test), target_names=label_encoder.classes_))"
   ]
  },
  {
   "cell_type": "code",
   "execution_count": 30,
   "metadata": {},
   "outputs": [
    {
     "data": {
      "text/html": [
       "<div>\n",
       "<style scoped>\n",
       "    .dataframe tbody tr th:only-of-type {\n",
       "        vertical-align: middle;\n",
       "    }\n",
       "\n",
       "    .dataframe tbody tr th {\n",
       "        vertical-align: top;\n",
       "    }\n",
       "\n",
       "    .dataframe thead th {\n",
       "        text-align: right;\n",
       "    }\n",
       "</style>\n",
       "<table border=\"1\" class=\"dataframe\">\n",
       "  <thead>\n",
       "    <tr style=\"text-align: right;\">\n",
       "      <th></th>\n",
       "      <th>alt.atheism</th>\n",
       "      <th>comp.graphics</th>\n",
       "      <th>comp.os.ms-windows.misc</th>\n",
       "      <th>comp.sys.ibm.pc.hardware</th>\n",
       "      <th>comp.sys.mac.hardware</th>\n",
       "      <th>comp.windows.x</th>\n",
       "      <th>misc.forsale</th>\n",
       "      <th>rec.autos</th>\n",
       "      <th>rec.motorcycles</th>\n",
       "      <th>rec.sport.baseball</th>\n",
       "      <th>rec.sport.hockey</th>\n",
       "      <th>sci.crypt</th>\n",
       "      <th>sci.electronics</th>\n",
       "      <th>sci.med</th>\n",
       "      <th>sci.space</th>\n",
       "      <th>soc.religion.christian</th>\n",
       "      <th>talk.politics.guns</th>\n",
       "      <th>talk.politics.mideast</th>\n",
       "      <th>talk.politics.misc</th>\n",
       "      <th>talk.religion.misc</th>\n",
       "    </tr>\n",
       "  </thead>\n",
       "  <tbody>\n",
       "    <tr>\n",
       "      <td>alt.atheism</td>\n",
       "      <td>93</td>\n",
       "      <td>1</td>\n",
       "      <td>0</td>\n",
       "      <td>0</td>\n",
       "      <td>1</td>\n",
       "      <td>0</td>\n",
       "      <td>0</td>\n",
       "      <td>0</td>\n",
       "      <td>2</td>\n",
       "      <td>0</td>\n",
       "      <td>0</td>\n",
       "      <td>0</td>\n",
       "      <td>0</td>\n",
       "      <td>0</td>\n",
       "      <td>0</td>\n",
       "      <td>50</td>\n",
       "      <td>7</td>\n",
       "      <td>6</td>\n",
       "      <td>0</td>\n",
       "      <td>0</td>\n",
       "    </tr>\n",
       "    <tr>\n",
       "      <td>comp.graphics</td>\n",
       "      <td>0</td>\n",
       "      <td>155</td>\n",
       "      <td>7</td>\n",
       "      <td>7</td>\n",
       "      <td>2</td>\n",
       "      <td>10</td>\n",
       "      <td>1</td>\n",
       "      <td>1</td>\n",
       "      <td>2</td>\n",
       "      <td>0</td>\n",
       "      <td>2</td>\n",
       "      <td>4</td>\n",
       "      <td>1</td>\n",
       "      <td>1</td>\n",
       "      <td>1</td>\n",
       "      <td>1</td>\n",
       "      <td>0</td>\n",
       "      <td>0</td>\n",
       "      <td>0</td>\n",
       "      <td>0</td>\n",
       "    </tr>\n",
       "    <tr>\n",
       "      <td>comp.os.ms-windows.misc</td>\n",
       "      <td>1</td>\n",
       "      <td>9</td>\n",
       "      <td>151</td>\n",
       "      <td>18</td>\n",
       "      <td>2</td>\n",
       "      <td>9</td>\n",
       "      <td>1</td>\n",
       "      <td>1</td>\n",
       "      <td>1</td>\n",
       "      <td>0</td>\n",
       "      <td>0</td>\n",
       "      <td>2</td>\n",
       "      <td>1</td>\n",
       "      <td>0</td>\n",
       "      <td>1</td>\n",
       "      <td>0</td>\n",
       "      <td>0</td>\n",
       "      <td>0</td>\n",
       "      <td>0</td>\n",
       "      <td>0</td>\n",
       "    </tr>\n",
       "    <tr>\n",
       "      <td>comp.sys.ibm.pc.hardware</td>\n",
       "      <td>0</td>\n",
       "      <td>5</td>\n",
       "      <td>13</td>\n",
       "      <td>154</td>\n",
       "      <td>9</td>\n",
       "      <td>3</td>\n",
       "      <td>3</td>\n",
       "      <td>1</td>\n",
       "      <td>1</td>\n",
       "      <td>0</td>\n",
       "      <td>1</td>\n",
       "      <td>1</td>\n",
       "      <td>5</td>\n",
       "      <td>0</td>\n",
       "      <td>0</td>\n",
       "      <td>0</td>\n",
       "      <td>0</td>\n",
       "      <td>0</td>\n",
       "      <td>0</td>\n",
       "      <td>0</td>\n",
       "    </tr>\n",
       "    <tr>\n",
       "      <td>comp.sys.mac.hardware</td>\n",
       "      <td>0</td>\n",
       "      <td>3</td>\n",
       "      <td>6</td>\n",
       "      <td>18</td>\n",
       "      <td>148</td>\n",
       "      <td>1</td>\n",
       "      <td>2</td>\n",
       "      <td>1</td>\n",
       "      <td>0</td>\n",
       "      <td>1</td>\n",
       "      <td>1</td>\n",
       "      <td>3</td>\n",
       "      <td>8</td>\n",
       "      <td>0</td>\n",
       "      <td>0</td>\n",
       "      <td>1</td>\n",
       "      <td>0</td>\n",
       "      <td>0</td>\n",
       "      <td>0</td>\n",
       "      <td>0</td>\n",
       "    </tr>\n",
       "    <tr>\n",
       "      <td>comp.windows.x</td>\n",
       "      <td>0</td>\n",
       "      <td>16</td>\n",
       "      <td>3</td>\n",
       "      <td>7</td>\n",
       "      <td>0</td>\n",
       "      <td>163</td>\n",
       "      <td>0</td>\n",
       "      <td>1</td>\n",
       "      <td>0</td>\n",
       "      <td>0</td>\n",
       "      <td>1</td>\n",
       "      <td>2</td>\n",
       "      <td>1</td>\n",
       "      <td>0</td>\n",
       "      <td>3</td>\n",
       "      <td>1</td>\n",
       "      <td>0</td>\n",
       "      <td>0</td>\n",
       "      <td>0</td>\n",
       "      <td>0</td>\n",
       "    </tr>\n",
       "    <tr>\n",
       "      <td>misc.forsale</td>\n",
       "      <td>0</td>\n",
       "      <td>1</td>\n",
       "      <td>1</td>\n",
       "      <td>12</td>\n",
       "      <td>5</td>\n",
       "      <td>1</td>\n",
       "      <td>147</td>\n",
       "      <td>4</td>\n",
       "      <td>6</td>\n",
       "      <td>0</td>\n",
       "      <td>4</td>\n",
       "      <td>5</td>\n",
       "      <td>6</td>\n",
       "      <td>0</td>\n",
       "      <td>2</td>\n",
       "      <td>1</td>\n",
       "      <td>0</td>\n",
       "      <td>0</td>\n",
       "      <td>0</td>\n",
       "      <td>0</td>\n",
       "    </tr>\n",
       "    <tr>\n",
       "      <td>rec.autos</td>\n",
       "      <td>0</td>\n",
       "      <td>1</td>\n",
       "      <td>2</td>\n",
       "      <td>1</td>\n",
       "      <td>0</td>\n",
       "      <td>1</td>\n",
       "      <td>3</td>\n",
       "      <td>170</td>\n",
       "      <td>6</td>\n",
       "      <td>1</td>\n",
       "      <td>1</td>\n",
       "      <td>0</td>\n",
       "      <td>2</td>\n",
       "      <td>3</td>\n",
       "      <td>0</td>\n",
       "      <td>4</td>\n",
       "      <td>3</td>\n",
       "      <td>0</td>\n",
       "      <td>0</td>\n",
       "      <td>0</td>\n",
       "    </tr>\n",
       "    <tr>\n",
       "      <td>rec.motorcycles</td>\n",
       "      <td>0</td>\n",
       "      <td>3</td>\n",
       "      <td>0</td>\n",
       "      <td>0</td>\n",
       "      <td>0</td>\n",
       "      <td>0</td>\n",
       "      <td>1</td>\n",
       "      <td>7</td>\n",
       "      <td>180</td>\n",
       "      <td>0</td>\n",
       "      <td>0</td>\n",
       "      <td>0</td>\n",
       "      <td>1</td>\n",
       "      <td>0</td>\n",
       "      <td>2</td>\n",
       "      <td>3</td>\n",
       "      <td>2</td>\n",
       "      <td>0</td>\n",
       "      <td>0</td>\n",
       "      <td>0</td>\n",
       "    </tr>\n",
       "    <tr>\n",
       "      <td>rec.sport.baseball</td>\n",
       "      <td>0</td>\n",
       "      <td>0</td>\n",
       "      <td>2</td>\n",
       "      <td>0</td>\n",
       "      <td>0</td>\n",
       "      <td>0</td>\n",
       "      <td>1</td>\n",
       "      <td>0</td>\n",
       "      <td>1</td>\n",
       "      <td>190</td>\n",
       "      <td>3</td>\n",
       "      <td>0</td>\n",
       "      <td>0</td>\n",
       "      <td>0</td>\n",
       "      <td>0</td>\n",
       "      <td>0</td>\n",
       "      <td>1</td>\n",
       "      <td>0</td>\n",
       "      <td>1</td>\n",
       "      <td>0</td>\n",
       "    </tr>\n",
       "    <tr>\n",
       "      <td>rec.sport.hockey</td>\n",
       "      <td>0</td>\n",
       "      <td>2</td>\n",
       "      <td>0</td>\n",
       "      <td>0</td>\n",
       "      <td>0</td>\n",
       "      <td>0</td>\n",
       "      <td>1</td>\n",
       "      <td>0</td>\n",
       "      <td>0</td>\n",
       "      <td>6</td>\n",
       "      <td>185</td>\n",
       "      <td>0</td>\n",
       "      <td>1</td>\n",
       "      <td>1</td>\n",
       "      <td>0</td>\n",
       "      <td>4</td>\n",
       "      <td>0</td>\n",
       "      <td>0</td>\n",
       "      <td>0</td>\n",
       "      <td>0</td>\n",
       "    </tr>\n",
       "    <tr>\n",
       "      <td>sci.crypt</td>\n",
       "      <td>0</td>\n",
       "      <td>3</td>\n",
       "      <td>3</td>\n",
       "      <td>0</td>\n",
       "      <td>0</td>\n",
       "      <td>2</td>\n",
       "      <td>0</td>\n",
       "      <td>1</td>\n",
       "      <td>0</td>\n",
       "      <td>0</td>\n",
       "      <td>0</td>\n",
       "      <td>180</td>\n",
       "      <td>2</td>\n",
       "      <td>1</td>\n",
       "      <td>1</td>\n",
       "      <td>2</td>\n",
       "      <td>2</td>\n",
       "      <td>1</td>\n",
       "      <td>0</td>\n",
       "      <td>0</td>\n",
       "    </tr>\n",
       "    <tr>\n",
       "      <td>sci.electronics</td>\n",
       "      <td>0</td>\n",
       "      <td>7</td>\n",
       "      <td>5</td>\n",
       "      <td>7</td>\n",
       "      <td>6</td>\n",
       "      <td>1</td>\n",
       "      <td>5</td>\n",
       "      <td>6</td>\n",
       "      <td>0</td>\n",
       "      <td>0</td>\n",
       "      <td>2</td>\n",
       "      <td>5</td>\n",
       "      <td>151</td>\n",
       "      <td>0</td>\n",
       "      <td>0</td>\n",
       "      <td>0</td>\n",
       "      <td>1</td>\n",
       "      <td>0</td>\n",
       "      <td>1</td>\n",
       "      <td>0</td>\n",
       "    </tr>\n",
       "    <tr>\n",
       "      <td>sci.med</td>\n",
       "      <td>1</td>\n",
       "      <td>3</td>\n",
       "      <td>1</td>\n",
       "      <td>0</td>\n",
       "      <td>1</td>\n",
       "      <td>0</td>\n",
       "      <td>0</td>\n",
       "      <td>0</td>\n",
       "      <td>0</td>\n",
       "      <td>0</td>\n",
       "      <td>0</td>\n",
       "      <td>2</td>\n",
       "      <td>3</td>\n",
       "      <td>174</td>\n",
       "      <td>2</td>\n",
       "      <td>8</td>\n",
       "      <td>1</td>\n",
       "      <td>2</td>\n",
       "      <td>0</td>\n",
       "      <td>0</td>\n",
       "    </tr>\n",
       "    <tr>\n",
       "      <td>sci.space</td>\n",
       "      <td>0</td>\n",
       "      <td>3</td>\n",
       "      <td>1</td>\n",
       "      <td>0</td>\n",
       "      <td>0</td>\n",
       "      <td>1</td>\n",
       "      <td>0</td>\n",
       "      <td>1</td>\n",
       "      <td>0</td>\n",
       "      <td>0</td>\n",
       "      <td>0</td>\n",
       "      <td>2</td>\n",
       "      <td>2</td>\n",
       "      <td>3</td>\n",
       "      <td>179</td>\n",
       "      <td>2</td>\n",
       "      <td>2</td>\n",
       "      <td>1</td>\n",
       "      <td>0</td>\n",
       "      <td>0</td>\n",
       "    </tr>\n",
       "    <tr>\n",
       "      <td>soc.religion.christian</td>\n",
       "      <td>1</td>\n",
       "      <td>0</td>\n",
       "      <td>0</td>\n",
       "      <td>0</td>\n",
       "      <td>0</td>\n",
       "      <td>1</td>\n",
       "      <td>0</td>\n",
       "      <td>1</td>\n",
       "      <td>0</td>\n",
       "      <td>0</td>\n",
       "      <td>0</td>\n",
       "      <td>0</td>\n",
       "      <td>0</td>\n",
       "      <td>1</td>\n",
       "      <td>0</td>\n",
       "      <td>191</td>\n",
       "      <td>1</td>\n",
       "      <td>3</td>\n",
       "      <td>0</td>\n",
       "      <td>0</td>\n",
       "    </tr>\n",
       "    <tr>\n",
       "      <td>talk.politics.guns</td>\n",
       "      <td>0</td>\n",
       "      <td>0</td>\n",
       "      <td>0</td>\n",
       "      <td>0</td>\n",
       "      <td>0</td>\n",
       "      <td>0</td>\n",
       "      <td>1</td>\n",
       "      <td>0</td>\n",
       "      <td>1</td>\n",
       "      <td>0</td>\n",
       "      <td>0</td>\n",
       "      <td>2</td>\n",
       "      <td>0</td>\n",
       "      <td>0</td>\n",
       "      <td>0</td>\n",
       "      <td>3</td>\n",
       "      <td>172</td>\n",
       "      <td>1</td>\n",
       "      <td>2</td>\n",
       "      <td>0</td>\n",
       "    </tr>\n",
       "    <tr>\n",
       "      <td>talk.politics.mideast</td>\n",
       "      <td>0</td>\n",
       "      <td>0</td>\n",
       "      <td>0</td>\n",
       "      <td>0</td>\n",
       "      <td>0</td>\n",
       "      <td>1</td>\n",
       "      <td>0</td>\n",
       "      <td>0</td>\n",
       "      <td>0</td>\n",
       "      <td>0</td>\n",
       "      <td>0</td>\n",
       "      <td>0</td>\n",
       "      <td>0</td>\n",
       "      <td>0</td>\n",
       "      <td>0</td>\n",
       "      <td>11</td>\n",
       "      <td>2</td>\n",
       "      <td>173</td>\n",
       "      <td>1</td>\n",
       "      <td>0</td>\n",
       "    </tr>\n",
       "    <tr>\n",
       "      <td>talk.politics.misc</td>\n",
       "      <td>0</td>\n",
       "      <td>3</td>\n",
       "      <td>1</td>\n",
       "      <td>0</td>\n",
       "      <td>0</td>\n",
       "      <td>0</td>\n",
       "      <td>0</td>\n",
       "      <td>1</td>\n",
       "      <td>2</td>\n",
       "      <td>1</td>\n",
       "      <td>0</td>\n",
       "      <td>5</td>\n",
       "      <td>0</td>\n",
       "      <td>1</td>\n",
       "      <td>3</td>\n",
       "      <td>8</td>\n",
       "      <td>43</td>\n",
       "      <td>7</td>\n",
       "      <td>80</td>\n",
       "      <td>0</td>\n",
       "    </tr>\n",
       "    <tr>\n",
       "      <td>talk.religion.misc</td>\n",
       "      <td>21</td>\n",
       "      <td>0</td>\n",
       "      <td>0</td>\n",
       "      <td>0</td>\n",
       "      <td>0</td>\n",
       "      <td>1</td>\n",
       "      <td>0</td>\n",
       "      <td>0</td>\n",
       "      <td>2</td>\n",
       "      <td>0</td>\n",
       "      <td>0</td>\n",
       "      <td>0</td>\n",
       "      <td>1</td>\n",
       "      <td>0</td>\n",
       "      <td>2</td>\n",
       "      <td>75</td>\n",
       "      <td>18</td>\n",
       "      <td>1</td>\n",
       "      <td>0</td>\n",
       "      <td>5</td>\n",
       "    </tr>\n",
       "  </tbody>\n",
       "</table>\n",
       "</div>"
      ],
      "text/plain": [
       "                          alt.atheism  comp.graphics  comp.os.ms-windows.misc  \\\n",
       "alt.atheism                        93              1                        0   \n",
       "comp.graphics                       0            155                        7   \n",
       "comp.os.ms-windows.misc             1              9                      151   \n",
       "comp.sys.ibm.pc.hardware            0              5                       13   \n",
       "comp.sys.mac.hardware               0              3                        6   \n",
       "comp.windows.x                      0             16                        3   \n",
       "misc.forsale                        0              1                        1   \n",
       "rec.autos                           0              1                        2   \n",
       "rec.motorcycles                     0              3                        0   \n",
       "rec.sport.baseball                  0              0                        2   \n",
       "rec.sport.hockey                    0              2                        0   \n",
       "sci.crypt                           0              3                        3   \n",
       "sci.electronics                     0              7                        5   \n",
       "sci.med                             1              3                        1   \n",
       "sci.space                           0              3                        1   \n",
       "soc.religion.christian              1              0                        0   \n",
       "talk.politics.guns                  0              0                        0   \n",
       "talk.politics.mideast               0              0                        0   \n",
       "talk.politics.misc                  0              3                        1   \n",
       "talk.religion.misc                 21              0                        0   \n",
       "\n",
       "                          comp.sys.ibm.pc.hardware  comp.sys.mac.hardware  \\\n",
       "alt.atheism                                      0                      1   \n",
       "comp.graphics                                    7                      2   \n",
       "comp.os.ms-windows.misc                         18                      2   \n",
       "comp.sys.ibm.pc.hardware                       154                      9   \n",
       "comp.sys.mac.hardware                           18                    148   \n",
       "comp.windows.x                                   7                      0   \n",
       "misc.forsale                                    12                      5   \n",
       "rec.autos                                        1                      0   \n",
       "rec.motorcycles                                  0                      0   \n",
       "rec.sport.baseball                               0                      0   \n",
       "rec.sport.hockey                                 0                      0   \n",
       "sci.crypt                                        0                      0   \n",
       "sci.electronics                                  7                      6   \n",
       "sci.med                                          0                      1   \n",
       "sci.space                                        0                      0   \n",
       "soc.religion.christian                           0                      0   \n",
       "talk.politics.guns                               0                      0   \n",
       "talk.politics.mideast                            0                      0   \n",
       "talk.politics.misc                               0                      0   \n",
       "talk.religion.misc                               0                      0   \n",
       "\n",
       "                          comp.windows.x  misc.forsale  rec.autos  \\\n",
       "alt.atheism                            0             0          0   \n",
       "comp.graphics                         10             1          1   \n",
       "comp.os.ms-windows.misc                9             1          1   \n",
       "comp.sys.ibm.pc.hardware               3             3          1   \n",
       "comp.sys.mac.hardware                  1             2          1   \n",
       "comp.windows.x                       163             0          1   \n",
       "misc.forsale                           1           147          4   \n",
       "rec.autos                              1             3        170   \n",
       "rec.motorcycles                        0             1          7   \n",
       "rec.sport.baseball                     0             1          0   \n",
       "rec.sport.hockey                       0             1          0   \n",
       "sci.crypt                              2             0          1   \n",
       "sci.electronics                        1             5          6   \n",
       "sci.med                                0             0          0   \n",
       "sci.space                              1             0          1   \n",
       "soc.religion.christian                 1             0          1   \n",
       "talk.politics.guns                     0             1          0   \n",
       "talk.politics.mideast                  1             0          0   \n",
       "talk.politics.misc                     0             0          1   \n",
       "talk.religion.misc                     1             0          0   \n",
       "\n",
       "                          rec.motorcycles  rec.sport.baseball  \\\n",
       "alt.atheism                             2                   0   \n",
       "comp.graphics                           2                   0   \n",
       "comp.os.ms-windows.misc                 1                   0   \n",
       "comp.sys.ibm.pc.hardware                1                   0   \n",
       "comp.sys.mac.hardware                   0                   1   \n",
       "comp.windows.x                          0                   0   \n",
       "misc.forsale                            6                   0   \n",
       "rec.autos                               6                   1   \n",
       "rec.motorcycles                       180                   0   \n",
       "rec.sport.baseball                      1                 190   \n",
       "rec.sport.hockey                        0                   6   \n",
       "sci.crypt                               0                   0   \n",
       "sci.electronics                         0                   0   \n",
       "sci.med                                 0                   0   \n",
       "sci.space                               0                   0   \n",
       "soc.religion.christian                  0                   0   \n",
       "talk.politics.guns                      1                   0   \n",
       "talk.politics.mideast                   0                   0   \n",
       "talk.politics.misc                      2                   1   \n",
       "talk.religion.misc                      2                   0   \n",
       "\n",
       "                          rec.sport.hockey  sci.crypt  sci.electronics  \\\n",
       "alt.atheism                              0          0                0   \n",
       "comp.graphics                            2          4                1   \n",
       "comp.os.ms-windows.misc                  0          2                1   \n",
       "comp.sys.ibm.pc.hardware                 1          1                5   \n",
       "comp.sys.mac.hardware                    1          3                8   \n",
       "comp.windows.x                           1          2                1   \n",
       "misc.forsale                             4          5                6   \n",
       "rec.autos                                1          0                2   \n",
       "rec.motorcycles                          0          0                1   \n",
       "rec.sport.baseball                       3          0                0   \n",
       "rec.sport.hockey                       185          0                1   \n",
       "sci.crypt                                0        180                2   \n",
       "sci.electronics                          2          5              151   \n",
       "sci.med                                  0          2                3   \n",
       "sci.space                                0          2                2   \n",
       "soc.religion.christian                   0          0                0   \n",
       "talk.politics.guns                       0          2                0   \n",
       "talk.politics.mideast                    0          0                0   \n",
       "talk.politics.misc                       0          5                0   \n",
       "talk.religion.misc                       0          0                1   \n",
       "\n",
       "                          sci.med  sci.space  soc.religion.christian  \\\n",
       "alt.atheism                     0          0                      50   \n",
       "comp.graphics                   1          1                       1   \n",
       "comp.os.ms-windows.misc         0          1                       0   \n",
       "comp.sys.ibm.pc.hardware        0          0                       0   \n",
       "comp.sys.mac.hardware           0          0                       1   \n",
       "comp.windows.x                  0          3                       1   \n",
       "misc.forsale                    0          2                       1   \n",
       "rec.autos                       3          0                       4   \n",
       "rec.motorcycles                 0          2                       3   \n",
       "rec.sport.baseball              0          0                       0   \n",
       "rec.sport.hockey                1          0                       4   \n",
       "sci.crypt                       1          1                       2   \n",
       "sci.electronics                 0          0                       0   \n",
       "sci.med                       174          2                       8   \n",
       "sci.space                       3        179                       2   \n",
       "soc.religion.christian          1          0                     191   \n",
       "talk.politics.guns              0          0                       3   \n",
       "talk.politics.mideast           0          0                      11   \n",
       "talk.politics.misc              1          3                       8   \n",
       "talk.religion.misc              0          2                      75   \n",
       "\n",
       "                          talk.politics.guns  talk.politics.mideast  \\\n",
       "alt.atheism                                7                      6   \n",
       "comp.graphics                              0                      0   \n",
       "comp.os.ms-windows.misc                    0                      0   \n",
       "comp.sys.ibm.pc.hardware                   0                      0   \n",
       "comp.sys.mac.hardware                      0                      0   \n",
       "comp.windows.x                             0                      0   \n",
       "misc.forsale                               0                      0   \n",
       "rec.autos                                  3                      0   \n",
       "rec.motorcycles                            2                      0   \n",
       "rec.sport.baseball                         1                      0   \n",
       "rec.sport.hockey                           0                      0   \n",
       "sci.crypt                                  2                      1   \n",
       "sci.electronics                            1                      0   \n",
       "sci.med                                    1                      2   \n",
       "sci.space                                  2                      1   \n",
       "soc.religion.christian                     1                      3   \n",
       "talk.politics.guns                       172                      1   \n",
       "talk.politics.mideast                      2                    173   \n",
       "talk.politics.misc                        43                      7   \n",
       "talk.religion.misc                        18                      1   \n",
       "\n",
       "                          talk.politics.misc  talk.religion.misc  \n",
       "alt.atheism                                0                   0  \n",
       "comp.graphics                              0                   0  \n",
       "comp.os.ms-windows.misc                    0                   0  \n",
       "comp.sys.ibm.pc.hardware                   0                   0  \n",
       "comp.sys.mac.hardware                      0                   0  \n",
       "comp.windows.x                             0                   0  \n",
       "misc.forsale                               0                   0  \n",
       "rec.autos                                  0                   0  \n",
       "rec.motorcycles                            0                   0  \n",
       "rec.sport.baseball                         1                   0  \n",
       "rec.sport.hockey                           0                   0  \n",
       "sci.crypt                                  0                   0  \n",
       "sci.electronics                            1                   0  \n",
       "sci.med                                    0                   0  \n",
       "sci.space                                  0                   0  \n",
       "soc.religion.christian                     0                   0  \n",
       "talk.politics.guns                         2                   0  \n",
       "talk.politics.mideast                      1                   0  \n",
       "talk.politics.misc                        80                   0  \n",
       "talk.religion.misc                         0                   5  "
      ]
     },
     "execution_count": 30,
     "metadata": {},
     "output_type": "execute_result"
    }
   ],
   "source": [
    "from sklearn.metrics import confusion_matrix\n",
    "\n",
    "\n",
    "cm = pd.DataFrame(data = confusion_matrix(Y_test, clf.predict(X_test)), \n",
    "                  index = label_encoder.classes_, \n",
    "                  columns= label_encoder.classes_)\n",
    "cm"
   ]
  },
  {
   "cell_type": "markdown",
   "metadata": {},
   "source": [
    "# Logistic Regression"
   ]
  },
  {
   "cell_type": "code",
   "execution_count": 31,
   "metadata": {},
   "outputs": [
    {
     "name": "stderr",
     "output_type": "stream",
     "text": [
      "C:\\Users\\nasty\\Anaconda3\\lib\\site-packages\\sklearn\\linear_model\\logistic.py:432: FutureWarning: Default solver will be changed to 'lbfgs' in 0.22. Specify a solver to silence this warning.\n",
      "  FutureWarning)\n",
      "C:\\Users\\nasty\\Anaconda3\\lib\\site-packages\\sklearn\\linear_model\\logistic.py:469: FutureWarning: Default multi_class will be changed to 'auto' in 0.22. Specify the multi_class option to silence this warning.\n",
      "  \"this warning.\", FutureWarning)\n"
     ]
    }
   ],
   "source": [
    "from sklearn.linear_model import LogisticRegression\n",
    "\n",
    "clf = LogisticRegression().fit(X_train, Y_train)"
   ]
  },
  {
   "cell_type": "markdown",
   "metadata": {},
   "source": [
    "#### Train report:"
   ]
  },
  {
   "cell_type": "code",
   "execution_count": 32,
   "metadata": {},
   "outputs": [
    {
     "name": "stdout",
     "output_type": "stream",
     "text": [
      "                          precision    recall  f1-score   support\n",
      "\n",
      "             alt.atheism       0.91      0.89      0.90       639\n",
      "           comp.graphics       0.87      0.91      0.89       778\n",
      " comp.os.ms-windows.misc       0.86      0.87      0.86       788\n",
      "comp.sys.ibm.pc.hardware       0.86      0.85      0.86       786\n",
      "   comp.sys.mac.hardware       0.94      0.91      0.93       770\n",
      "          comp.windows.x       0.92      0.90      0.91       790\n",
      "            misc.forsale       0.82      0.91      0.86       780\n",
      "               rec.autos       0.93      0.93      0.93       792\n",
      "         rec.motorcycles       0.97      0.95      0.96       797\n",
      "      rec.sport.baseball       0.96      0.98      0.97       795\n",
      "        rec.sport.hockey       0.99      0.98      0.98       799\n",
      "               sci.crypt       0.97      0.94      0.96       793\n",
      "         sci.electronics       0.89      0.90      0.90       787\n",
      "                 sci.med       0.95      0.96      0.96       792\n",
      "               sci.space       0.95      0.96      0.95       790\n",
      "  soc.religion.christian       0.86      0.93      0.90       798\n",
      "      talk.politics.guns       0.86      0.95      0.90       728\n",
      "   talk.politics.mideast       0.96      0.96      0.96       752\n",
      "      talk.politics.misc       0.94      0.86      0.90       620\n",
      "      talk.religion.misc       0.94      0.62      0.75       502\n",
      "\n",
      "                accuracy                           0.92     15076\n",
      "               macro avg       0.92      0.91      0.91     15076\n",
      "            weighted avg       0.92      0.92      0.91     15076\n",
      "\n"
     ]
    }
   ],
   "source": [
    "print(classification_report(Y_train, clf.predict(X_train), target_names=label_encoder.classes_))"
   ]
  },
  {
   "cell_type": "markdown",
   "metadata": {},
   "source": [
    "#### Test report"
   ]
  },
  {
   "cell_type": "code",
   "execution_count": 33,
   "metadata": {},
   "outputs": [
    {
     "name": "stdout",
     "output_type": "stream",
     "text": [
      "                          precision    recall  f1-score   support\n",
      "\n",
      "             alt.atheism       0.78      0.74      0.76       160\n",
      "           comp.graphics       0.75      0.82      0.78       195\n",
      " comp.os.ms-windows.misc       0.82      0.81      0.82       197\n",
      "comp.sys.ibm.pc.hardware       0.78      0.72      0.75       196\n",
      "   comp.sys.mac.hardware       0.84      0.80      0.82       193\n",
      "          comp.windows.x       0.84      0.85      0.85       198\n",
      "            misc.forsale       0.76      0.86      0.80       195\n",
      "               rec.autos       0.84      0.85      0.84       198\n",
      "         rec.motorcycles       0.90      0.90      0.90       199\n",
      "      rec.sport.baseball       0.91      0.95      0.93       199\n",
      "        rec.sport.hockey       0.98      0.90      0.94       200\n",
      "               sci.crypt       0.94      0.89      0.92       198\n",
      "         sci.electronics       0.81      0.83      0.82       197\n",
      "                 sci.med       0.88      0.88      0.88       198\n",
      "               sci.space       0.87      0.94      0.90       197\n",
      "  soc.religion.christian       0.77      0.90      0.83       199\n",
      "      talk.politics.guns       0.81      0.91      0.86       182\n",
      "   talk.politics.mideast       0.95      0.93      0.94       188\n",
      "      talk.politics.misc       0.83      0.73      0.78       155\n",
      "      talk.religion.misc       0.76      0.44      0.56       126\n",
      "\n",
      "                accuracy                           0.84      3770\n",
      "               macro avg       0.84      0.83      0.83      3770\n",
      "            weighted avg       0.84      0.84      0.84      3770\n",
      "\n"
     ]
    }
   ],
   "source": [
    "print(classification_report(Y_test, clf.predict(X_test), target_names=label_encoder.classes_))"
   ]
  },
  {
   "cell_type": "markdown",
   "metadata": {},
   "source": [
    "# Support Vector Machines"
   ]
  },
  {
   "cell_type": "markdown",
   "metadata": {},
   "source": [
    "https://en.wikipedia.org/wiki/Support-vector_machine#Linear_SVM"
   ]
  },
  {
   "cell_type": "markdown",
   "metadata": {},
   "source": [
    "#### Hard margin"
   ]
  },
  {
   "cell_type": "markdown",
   "metadata": {},
   "source": [
    "![image.png](images/svm.png)"
   ]
  },
  {
   "cell_type": "markdown",
   "metadata": {},
   "source": [
    "$$ \\huge \\overrightarrow{w} \\cdot \\overrightarrow{x} - b = 1;$$\n",
    "$$ \\huge \\overrightarrow{w} \\cdot \\overrightarrow{x} - b = -1;$$\n",
    "$$ \\huge distance = \\frac{2}{||\\overrightarrow{w}||};$$\n",
    "$$ \\huge y_i(\\overrightarrow{w} \\cdot \\overrightarrow{x_i} - b) \\geq 1, \\forall i;$$"
   ]
  },
  {
   "cell_type": "markdown",
   "metadata": {},
   "source": [
    "#### Soft margin"
   ]
  },
  {
   "cell_type": "markdown",
   "metadata": {},
   "source": [
    "![image.png](images/svm_2.png)"
   ]
  },
  {
   "cell_type": "markdown",
   "metadata": {},
   "source": [
    "$$ \\huge hinge = max(0, 1 - y_i(\\overrightarrow{w} \\cdot \\overrightarrow{x_i} - b));$$\n",
    "$$ \\huge loss = \\frac{1}{n} \\sum_{i=1}^{n} hinge + \\lambda ||\\overrightarrow{w}||^2;$$\n",
    "$$ \\huge loss = \\frac{1}{n} \\sum_{i=1}^{n} max(0, 1 - y_i(\\overrightarrow{w} \\cdot \\overrightarrow{x_i} - b)) + \\lambda ||\\overrightarrow{w}||^2;$$"
   ]
  },
  {
   "cell_type": "code",
   "execution_count": 34,
   "metadata": {},
   "outputs": [],
   "source": [
    "from sklearn.svm import LinearSVC\n",
    "\n",
    "clf = LinearSVC().fit(X_train, Y_train)"
   ]
  },
  {
   "cell_type": "markdown",
   "metadata": {},
   "source": [
    "#### Train report:"
   ]
  },
  {
   "cell_type": "code",
   "execution_count": 35,
   "metadata": {},
   "outputs": [
    {
     "name": "stdout",
     "output_type": "stream",
     "text": [
      "                          precision    recall  f1-score   support\n",
      "\n",
      "             alt.atheism       1.00      0.99      0.99       639\n",
      "           comp.graphics       0.99      0.99      0.99       778\n",
      " comp.os.ms-windows.misc       0.98      0.98      0.98       788\n",
      "comp.sys.ibm.pc.hardware       0.98      0.97      0.98       786\n",
      "   comp.sys.mac.hardware       1.00      0.99      0.99       770\n",
      "          comp.windows.x       0.99      0.99      0.99       790\n",
      "            misc.forsale       0.95      0.99      0.97       780\n",
      "               rec.autos       1.00      0.99      1.00       792\n",
      "         rec.motorcycles       1.00      1.00      1.00       797\n",
      "      rec.sport.baseball       1.00      1.00      1.00       795\n",
      "        rec.sport.hockey       1.00      1.00      1.00       799\n",
      "               sci.crypt       1.00      1.00      1.00       793\n",
      "         sci.electronics       1.00      0.99      0.99       787\n",
      "                 sci.med       1.00      0.99      1.00       792\n",
      "               sci.space       1.00      1.00      1.00       790\n",
      "  soc.religion.christian       0.99      1.00      1.00       798\n",
      "      talk.politics.guns       0.99      1.00      1.00       728\n",
      "   talk.politics.mideast       1.00      1.00      1.00       752\n",
      "      talk.politics.misc       1.00      0.99      0.99       620\n",
      "      talk.religion.misc       0.99      0.98      0.99       502\n",
      "\n",
      "                accuracy                           0.99     15076\n",
      "               macro avg       0.99      0.99      0.99     15076\n",
      "            weighted avg       0.99      0.99      0.99     15076\n",
      "\n"
     ]
    }
   ],
   "source": [
    "print(classification_report(Y_train, clf.predict(X_train), target_names=label_encoder.classes_))"
   ]
  },
  {
   "cell_type": "markdown",
   "metadata": {},
   "source": [
    "#### Test report:"
   ]
  },
  {
   "cell_type": "code",
   "execution_count": 36,
   "metadata": {},
   "outputs": [
    {
     "name": "stdout",
     "output_type": "stream",
     "text": [
      "                          precision    recall  f1-score   support\n",
      "\n",
      "             alt.atheism       0.82      0.81      0.82       160\n",
      "           comp.graphics       0.81      0.86      0.83       195\n",
      " comp.os.ms-windows.misc       0.81      0.85      0.83       197\n",
      "comp.sys.ibm.pc.hardware       0.81      0.77      0.79       196\n",
      "   comp.sys.mac.hardware       0.85      0.82      0.84       193\n",
      "          comp.windows.x       0.86      0.86      0.86       198\n",
      "            misc.forsale       0.80      0.88      0.84       195\n",
      "               rec.autos       0.88      0.88      0.88       198\n",
      "         rec.motorcycles       0.93      0.91      0.92       199\n",
      "      rec.sport.baseball       0.95      0.95      0.95       199\n",
      "        rec.sport.hockey       0.97      0.93      0.95       200\n",
      "               sci.crypt       0.97      0.92      0.94       198\n",
      "         sci.electronics       0.86      0.83      0.85       197\n",
      "                 sci.med       0.91      0.90      0.91       198\n",
      "               sci.space       0.92      0.95      0.94       197\n",
      "  soc.religion.christian       0.87      0.92      0.89       199\n",
      "      talk.politics.guns       0.85      0.92      0.88       182\n",
      "   talk.politics.mideast       0.94      0.95      0.95       188\n",
      "      talk.politics.misc       0.89      0.81      0.85       155\n",
      "      talk.religion.misc       0.73      0.67      0.70       126\n",
      "\n",
      "                accuracy                           0.87      3770\n",
      "               macro avg       0.87      0.87      0.87      3770\n",
      "            weighted avg       0.88      0.87      0.87      3770\n",
      "\n"
     ]
    }
   ],
   "source": [
    "print(classification_report(Y_test, clf.predict(X_test), target_names=label_encoder.classes_))"
   ]
  },
  {
   "cell_type": "code",
   "execution_count": 37,
   "metadata": {},
   "outputs": [],
   "source": [
    "import pickle\n",
    "\n",
    "with open('svc.pkl', 'wb') as f:\n",
    "    pickle.dump(clf, f)"
   ]
  },
  {
   "cell_type": "code",
   "execution_count": 38,
   "metadata": {},
   "outputs": [
    {
     "name": "stdout",
     "output_type": "stream",
     "text": [
      "['comp.graphics']\n"
     ]
    }
   ],
   "source": [
    "with open('svc.pkl', 'rb') as f:\n",
    "    new_clf = pickle.load(f)\n",
    "    x = tfidf.transform(['I hate photoshop'])\n",
    "    y_encoded = new_clf.predict(x)\n",
    "    y_labeled = label_encoder.inverse_transform(y_encoded) \n",
    "    print(y_labeled)"
   ]
  },
  {
   "cell_type": "markdown",
   "metadata": {},
   "source": [
    "Further reading https://scikit-learn.org/stable/tutorial/text_analytics/working_with_text_data.html"
   ]
  }
 ],
 "metadata": {
  "kernelspec": {
   "display_name": "Python 3",
   "language": "python",
   "name": "python3"
  },
  "language_info": {
   "codemirror_mode": {
    "name": "ipython",
    "version": 3
   },
   "file_extension": ".py",
   "mimetype": "text/x-python",
   "name": "python",
   "nbconvert_exporter": "python",
   "pygments_lexer": "ipython3",
   "version": "3.7.4"
  }
 },
 "nbformat": 4,
 "nbformat_minor": 2
}
