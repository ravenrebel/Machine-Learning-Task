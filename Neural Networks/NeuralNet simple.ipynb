{
 "cells": [
  {
   "cell_type": "code",
   "execution_count": 117,
   "metadata": {},
   "outputs": [],
   "source": [
    "import numpy as np\n",
    "import pandas as pd\n",
    "from sklearn.model_selection import train_test_split\n",
    "from mpl_toolkits.mplot3d import Axes3D\n",
    "import matplotlib.pyplot as plt\n",
    "import matplotlib as mpl\n",
    "from matplotlib.colors import ListedColormap\n",
    "cm_bright = ListedColormap(['#FF0000', '#0000FF'])\n",
    "%matplotlib inline\n",
    "from sklearn.metrics import accuracy_score\n",
    "\n",
    "import sklearn.linear_model\n",
    "from keras.utils import to_categorical\n",
    "import warnings\n",
    "warnings.filterwarnings('ignore')"
   ]
  },
  {
   "cell_type": "code",
   "execution_count": 2,
   "metadata": {},
   "outputs": [],
   "source": [
    "def plot_surface(cls, x_1, x_2, ax=None, threshold=0.5, contourf=False):\n",
    "    xx1, xx2 = np.meshgrid(np.linspace(x_1.min(), x_1.max(), 100), \n",
    "                           np.linspace(x_2.min(), x_2.max(), 100))\n",
    "\n",
    "    X_pred = np.c_[xx1.ravel(), xx2.ravel()]\n",
    "    pred = cls.predict_proba(X_pred)[:, 0]\n",
    "    Z = pred.reshape((100, 100))\n",
    "    if ax is None:\n",
    "        ax = plt.gca()\n",
    "    ax.contour(xx1, xx2, Z, levels=[threshold], colors='black')\n",
    "    ax.set_xlim((x_1.min(), x_1.max()))\n",
    "    ax.set_ylim((x_2.min(), x_2.max()))"
   ]
  },
  {
   "cell_type": "code",
   "execution_count": 3,
   "metadata": {},
   "outputs": [],
   "source": [
    "def plot_data(X, y):\n",
    "    ax = plt.gca()\n",
    "    ax.scatter(X[:,0], X[:,1], c=(y == 1), cmap=cm_bright)"
   ]
  },
  {
   "cell_type": "code",
   "execution_count": 106,
   "metadata": {},
   "outputs": [],
   "source": [
    "class NeuralNet:\n",
    "    \"\"\"\n",
    "    NN for binary classification\n",
    "    Attributes:\n",
    "    ...\n",
    "    \"\"\"\n",
    "    \n",
    "    def __init__(self, normalize = True, learning_rate = 0.01, max_iter = 30000, hidden_layer_sizes = (100,), beta = 0.999, epsilon = 1e-8, tol = 1e-6):\n",
    "        self.learning_rate = learning_rate\n",
    "        self.max_iter = max_iter\n",
    "        self.normalize = normalize\n",
    "        self.hidden_layer_sizes = hidden_layer_sizes\n",
    "        self.layers_dims = 1 + len(hidden_layer_sizes)\n",
    "        self.epsilon = epsilon\n",
    "        self.tol = tol\n",
    "        self.beta = beta\n",
    "    \n",
    "    def __normalize(self, X, mean = None, std = None):\n",
    "        n = X.shape[0]\n",
    "        m = mean\n",
    "        if m is None:\n",
    "            m = np.mean(X, axis = 1).reshape((n, 1))\n",
    "        s = std\n",
    "        if s is None:\n",
    "            s = np.std(X, axis = 1).reshape((n, 1))\n",
    "        X_new = (X - m) / s**2\n",
    "        return X_new, m, s\n",
    "\n",
    "    def __sigmoid(self, Z):\n",
    "        return 1 / (1 + np.exp(-Z))\n",
    "    \n",
    "    def softmax(self, Z):\n",
    "        expZ = np.exp(Z - np.max(Z))\n",
    "        return expZ / expZ.sum(axis = 0, keepdims = True)\n",
    "    \n",
    "    ########################################################################################################################\n",
    "    \n",
    "    def __initialize_parameters(self, X_len, hidden_layers, y_len):\n",
    "        np.random.seed(1)\n",
    "        W = list()\n",
    "        b = list()\n",
    "        h = list(hidden_layers)\n",
    "        h.insert(0, X_len)\n",
    "        h.append(y_len)\n",
    "        hidden_layers = tuple(h)\n",
    "        \n",
    "        for i in range(1, self.layers_dims + 1):\n",
    "            W.append(np.random.randn(hidden_layers[i], hidden_layers[i - 1]) / np.sqrt(\n",
    "                hidden_layers[i - 1]))\n",
    "            b.append(np.zeros((hidden_layers[i], 1)))\n",
    "\n",
    "        self.parameters = {\"W\" : W, \"b\" : b}\n",
    "\n",
    "        \n",
    "        \n",
    "    # Forward part\n",
    "    def __forward_propagation(self, X):\n",
    "        W = self.parameters[\"W\"]\n",
    "        b = self.parameters[\"b\"]\n",
    "        A = []\n",
    "        Z = []\n",
    "               \n",
    "        for i in range(0, self.layers_dims - 1):\n",
    "            if i == 0:\n",
    "                Z.append(np.dot(W[i], X) + b[i])\n",
    "            else:\n",
    "                Z.append(np.dot(W[i], A[i-1]) + b[i])\n",
    "            A.append(self.__sigmoid(Z[i]))\n",
    "        Z.append(np.dot(W[-1], A[-1]) + b[-1])\n",
    "        A.append(self.softmax(Z[-1]))####\n",
    "        \n",
    "        cache = (W, b, Z, A)\n",
    "\n",
    "        return A[-1], cache\n",
    "    \n",
    "    def __sigmoid_derivative(self, Z):\n",
    "        s = 1 / (1 + np.exp(-Z))\n",
    "        return np.multiply(s, (1 - s))\n",
    "    \n",
    "    def cross_entropy(self, A, Y):\n",
    "        return - np.sum(np.log(A) * (Y), axis = 1)\n",
    "    \n",
    "    def compute_cost(self, A, Y):\n",
    "        J = - np.mean(Y.T * np.log(A.T + 1e-8))\n",
    "        return J\n",
    "    \n",
    "    def to_classlabel(self, z):\n",
    "        return z.argmax(axis = 1)\n",
    "       \n",
    "        \n",
    "    # Backward part\n",
    "    def __backward_propagation(self, X, Y, cache):\n",
    "        m = X.shape[1]\n",
    "        n = X.shape[0]\n",
    "        (W, b, Z, A) = cache\n",
    "        \n",
    "        dW = [None] * (self.layers_dims)\n",
    "        dA = [None] * (self.layers_dims)\n",
    "        dZ = [None] * (self.layers_dims)\n",
    "        db = [None] * (self.layers_dims)\n",
    "        \n",
    "        dZ[-1] = (A[-1] - Y)\n",
    "        dW[-1] = (1. / m * np.dot(dZ[-1], A[-2].T))\n",
    "        db[-1] = (1. / m * np.sum(dZ[-1], axis = 1, keepdims = True))\n",
    "        dA[-1] = np.dot(W[-1].T, dZ[-1])\n",
    "        \n",
    "        for i in range(self.layers_dims - 1, 0, -1):\n",
    "            dZ[i - 1] = np.multiply(dA[i], self.__sigmoid_derivative(Z[i - 1]))\n",
    "            if i - 1 == 0:\n",
    "                dW[i - 1] = 1. / m * np.dot(dZ[i - 1], X.T)\n",
    "            else:\n",
    "                dW[i-1] = 1. / m * np.dot(dZ[i - 1], A[i - 2].T)\n",
    "            db[i - 1] = 1. / m * np.sum(dZ[i - 1], axis = 1, keepdims = True) \n",
    "            dA[i - 1] = np.dot(W[i-1].T, dZ[i - 1])\n",
    "        \n",
    "        grads = {\"dZ\" : dZ, \"dW\" : dW, \"db\" : db}\n",
    "        return grads\n",
    "    \n",
    "    def __update_parameters(self, grads):\n",
    "        W = self.parameters[\"W\"]\n",
    "        b = self.parameters[\"b\"]\n",
    "\n",
    "        dW = grads[\"dW\"]\n",
    "        db = grads[\"db\"]\n",
    "        \n",
    "        for i in range(self.layers_dims):\n",
    "            self.S_dW[i] = self.beta * self.S_dW[i] + (1 - self.beta) * np.power(dW[i], 2)\n",
    "            self.S_db[i] = self.beta * self.S_db[i] + (1 - self.beta) * np.power(db[i], 2)\n",
    "            W[i] = W[i] - self.learning_rate * dW[i] / (np.sqrt(self.S_dW[i]) + self.epsilon)\n",
    "            b[i] = b[i] - self.learning_rate * db[i] / (np.sqrt(self.S_db[i]) + self.epsilon)\n",
    "            \n",
    "        self.parameters = {\"W\" : W, \"b\" : b}\n",
    "\n",
    "    def fit(self, X_vert, Y_vert, print_cost = True):\n",
    "        self.n_iter = 0\n",
    "        X, Y = X_vert.T, Y_vert.T\n",
    "        if self.normalize:\n",
    "            X, self.__mean, self.__std = self.__normalize(X)\n",
    "        costs = []\n",
    "        cost_history = []\n",
    "        m = X.shape[1]\n",
    "        self.__initialize_parameters(X.shape[0], self.hidden_layer_sizes, Y.shape[0])\n",
    "\n",
    "        self.S_dW = []\n",
    "        self.S_db = []\n",
    "        h = list(self.hidden_layer_sizes)\n",
    "        h.insert(0, X.shape[0])\n",
    "        h.append(Y.shape[0])\n",
    "        hidden_layers = tuple(h)\n",
    "        for i in range(1, self.layers_dims + 1):\n",
    "            self.S_dW.append(np.zeros((hidden_layers[i], hidden_layers[i-1])))\n",
    "            self.S_db.append(np.zeros((hidden_layers[i], 1)))\n",
    "        \n",
    "        for i in range(self.max_iter):\n",
    "            self.n_iter = i\n",
    "            A, cache = self.__forward_propagation(X)\n",
    "            cost = self.compute_cost(A, Y)\n",
    "            grads = self.__backward_propagation(X, Y, cache)\n",
    "            self.__update_parameters(grads)\n",
    "            cost_history.append(cost)\n",
    "            \n",
    "            if print_cost and i % 100 == 0:\n",
    "                print(\"{}-th iteration: {}\".format(i, cost))\n",
    "            if i % 100 == 0:\n",
    "                costs.append(cost)\n",
    "            if i > 1 and abs(cost - cost_history[-2]) < self.tol:\n",
    "                break\n",
    "\n",
    "        if print_cost:\n",
    "            plt.plot(costs)\n",
    "            plt.ylabel(\"Cost\")\n",
    "            plt.xlabel(\"Iteration, *100\")\n",
    "            plt.show()\n",
    "    \n",
    "    def predict_proba(self, X_vert):\n",
    "        X = X_vert.T\n",
    "        if self.normalize:\n",
    "            X = self.__normalize(X, self.__mean, self.__std)\n",
    "        probs = self.__forward_propagation(X)[0]\n",
    "        return probs.T\n",
    "    \n",
    "    def predict(self, X_vert):\n",
    "        positive_probs = self.predict_proba(X_vert)\n",
    "        y_pred = self.to_classlabel(positive_probs)\n",
    "        return y_pred  \n",
    "    "
   ]
  },
  {
   "cell_type": "code",
   "execution_count": null,
   "metadata": {},
   "outputs": [],
   "source": []
  },
  {
   "cell_type": "code",
   "execution_count": 107,
   "metadata": {},
   "outputs": [
    {
     "data": {
      "text/html": [
       "<div>\n",
       "<style scoped>\n",
       "    .dataframe tbody tr th:only-of-type {\n",
       "        vertical-align: middle;\n",
       "    }\n",
       "\n",
       "    .dataframe tbody tr th {\n",
       "        vertical-align: top;\n",
       "    }\n",
       "\n",
       "    .dataframe thead th {\n",
       "        text-align: right;\n",
       "    }\n",
       "</style>\n",
       "<table border=\"1\" class=\"dataframe\">\n",
       "  <thead>\n",
       "    <tr style=\"text-align: right;\">\n",
       "      <th></th>\n",
       "      <th>label</th>\n",
       "      <th>pixel0</th>\n",
       "      <th>pixel1</th>\n",
       "      <th>pixel2</th>\n",
       "      <th>pixel3</th>\n",
       "      <th>pixel4</th>\n",
       "      <th>pixel5</th>\n",
       "      <th>pixel6</th>\n",
       "      <th>pixel7</th>\n",
       "      <th>pixel8</th>\n",
       "      <th>...</th>\n",
       "      <th>pixel774</th>\n",
       "      <th>pixel775</th>\n",
       "      <th>pixel776</th>\n",
       "      <th>pixel777</th>\n",
       "      <th>pixel778</th>\n",
       "      <th>pixel779</th>\n",
       "      <th>pixel780</th>\n",
       "      <th>pixel781</th>\n",
       "      <th>pixel782</th>\n",
       "      <th>pixel783</th>\n",
       "    </tr>\n",
       "  </thead>\n",
       "  <tbody>\n",
       "    <tr>\n",
       "      <td>0</td>\n",
       "      <td>1</td>\n",
       "      <td>0</td>\n",
       "      <td>0</td>\n",
       "      <td>0</td>\n",
       "      <td>0</td>\n",
       "      <td>0</td>\n",
       "      <td>0</td>\n",
       "      <td>0</td>\n",
       "      <td>0</td>\n",
       "      <td>0</td>\n",
       "      <td>...</td>\n",
       "      <td>0</td>\n",
       "      <td>0</td>\n",
       "      <td>0</td>\n",
       "      <td>0</td>\n",
       "      <td>0</td>\n",
       "      <td>0</td>\n",
       "      <td>0</td>\n",
       "      <td>0</td>\n",
       "      <td>0</td>\n",
       "      <td>0</td>\n",
       "    </tr>\n",
       "    <tr>\n",
       "      <td>1</td>\n",
       "      <td>0</td>\n",
       "      <td>0</td>\n",
       "      <td>0</td>\n",
       "      <td>0</td>\n",
       "      <td>0</td>\n",
       "      <td>0</td>\n",
       "      <td>0</td>\n",
       "      <td>0</td>\n",
       "      <td>0</td>\n",
       "      <td>0</td>\n",
       "      <td>...</td>\n",
       "      <td>0</td>\n",
       "      <td>0</td>\n",
       "      <td>0</td>\n",
       "      <td>0</td>\n",
       "      <td>0</td>\n",
       "      <td>0</td>\n",
       "      <td>0</td>\n",
       "      <td>0</td>\n",
       "      <td>0</td>\n",
       "      <td>0</td>\n",
       "    </tr>\n",
       "    <tr>\n",
       "      <td>2</td>\n",
       "      <td>1</td>\n",
       "      <td>0</td>\n",
       "      <td>0</td>\n",
       "      <td>0</td>\n",
       "      <td>0</td>\n",
       "      <td>0</td>\n",
       "      <td>0</td>\n",
       "      <td>0</td>\n",
       "      <td>0</td>\n",
       "      <td>0</td>\n",
       "      <td>...</td>\n",
       "      <td>0</td>\n",
       "      <td>0</td>\n",
       "      <td>0</td>\n",
       "      <td>0</td>\n",
       "      <td>0</td>\n",
       "      <td>0</td>\n",
       "      <td>0</td>\n",
       "      <td>0</td>\n",
       "      <td>0</td>\n",
       "      <td>0</td>\n",
       "    </tr>\n",
       "    <tr>\n",
       "      <td>3</td>\n",
       "      <td>4</td>\n",
       "      <td>0</td>\n",
       "      <td>0</td>\n",
       "      <td>0</td>\n",
       "      <td>0</td>\n",
       "      <td>0</td>\n",
       "      <td>0</td>\n",
       "      <td>0</td>\n",
       "      <td>0</td>\n",
       "      <td>0</td>\n",
       "      <td>...</td>\n",
       "      <td>0</td>\n",
       "      <td>0</td>\n",
       "      <td>0</td>\n",
       "      <td>0</td>\n",
       "      <td>0</td>\n",
       "      <td>0</td>\n",
       "      <td>0</td>\n",
       "      <td>0</td>\n",
       "      <td>0</td>\n",
       "      <td>0</td>\n",
       "    </tr>\n",
       "    <tr>\n",
       "      <td>4</td>\n",
       "      <td>0</td>\n",
       "      <td>0</td>\n",
       "      <td>0</td>\n",
       "      <td>0</td>\n",
       "      <td>0</td>\n",
       "      <td>0</td>\n",
       "      <td>0</td>\n",
       "      <td>0</td>\n",
       "      <td>0</td>\n",
       "      <td>0</td>\n",
       "      <td>...</td>\n",
       "      <td>0</td>\n",
       "      <td>0</td>\n",
       "      <td>0</td>\n",
       "      <td>0</td>\n",
       "      <td>0</td>\n",
       "      <td>0</td>\n",
       "      <td>0</td>\n",
       "      <td>0</td>\n",
       "      <td>0</td>\n",
       "      <td>0</td>\n",
       "    </tr>\n",
       "  </tbody>\n",
       "</table>\n",
       "<p>5 rows × 785 columns</p>\n",
       "</div>"
      ],
      "text/plain": [
       "   label  pixel0  pixel1  pixel2  pixel3  pixel4  pixel5  pixel6  pixel7  \\\n",
       "0      1       0       0       0       0       0       0       0       0   \n",
       "1      0       0       0       0       0       0       0       0       0   \n",
       "2      1       0       0       0       0       0       0       0       0   \n",
       "3      4       0       0       0       0       0       0       0       0   \n",
       "4      0       0       0       0       0       0       0       0       0   \n",
       "\n",
       "   pixel8  ...  pixel774  pixel775  pixel776  pixel777  pixel778  pixel779  \\\n",
       "0       0  ...         0         0         0         0         0         0   \n",
       "1       0  ...         0         0         0         0         0         0   \n",
       "2       0  ...         0         0         0         0         0         0   \n",
       "3       0  ...         0         0         0         0         0         0   \n",
       "4       0  ...         0         0         0         0         0         0   \n",
       "\n",
       "   pixel780  pixel781  pixel782  pixel783  \n",
       "0         0         0         0         0  \n",
       "1         0         0         0         0  \n",
       "2         0         0         0         0  \n",
       "3         0         0         0         0  \n",
       "4         0         0         0         0  \n",
       "\n",
       "[5 rows x 785 columns]"
      ]
     },
     "execution_count": 107,
     "metadata": {},
     "output_type": "execute_result"
    }
   ],
   "source": [
    "df = pd.read_csv('train.csv')\n",
    "df.head()"
   ]
  },
  {
   "cell_type": "code",
   "execution_count": 108,
   "metadata": {},
   "outputs": [
    {
     "name": "stdout",
     "output_type": "stream",
     "text": [
      "Training set: X=(42000, 784), y=(42000,)\n"
     ]
    }
   ],
   "source": [
    "#data_columns = [\"test1\", \"test2\"]\n",
    "#target_column = \"passed\"\n",
    "#df = pd.read_csv(\"tests.csv\")\n",
    "#X, Y = df[data_columns].values, df[target_column]\n",
    "y = df[\"label\"]\n",
    "X = df.drop('label', axis = 1)\n",
    "###\n",
    "print('Training set: X={}, y={}'.format(X.shape, y.shape))"
   ]
  },
  {
   "cell_type": "code",
   "execution_count": 118,
   "metadata": {},
   "outputs": [
    {
     "data": {
      "image/png": "[encoded data removed]",
      "text/plain": [
       "<Figure size 432x288 with 1 Axes>"
      ]
     },
     "metadata": {
      "needs_background": "light"
     },
     "output_type": "display_data"
    }
   ],
   "source": [
    "#plot_data(X, Y)\n",
    "\n",
    "plt.imshow(X.iloc[20].values.reshape(28, 28), cmap=mpl.cm.binary)\n",
    "plt.show()"
   ]
  },
  {
   "cell_type": "code",
   "execution_count": 110,
   "metadata": {},
   "outputs": [
    {
     "name": "stdout",
     "output_type": "stream",
     "text": [
      "Training set: X=(33600, 784), y=(33600,)\n",
      "Test set: X=(8400, 784), y=(8400,)\n"
     ]
    }
   ],
   "source": [
    "X_train, X_test, y_train, y_test = train_test_split(X, y, test_size = 0.2, random_state=42)\n",
    "print('Training set: X={}, y={}'.format(X_train.shape, y_train.shape))\n",
    "print('Test set: X={}, y={}'.format(X_test.shape, y_test.shape))"
   ]
  },
  {
   "cell_type": "code",
   "execution_count": 111,
   "metadata": {},
   "outputs": [],
   "source": [
    "#normalize\n",
    "X_train = X_train / 255\n",
    "X_test = X_test / 255\n",
    "\n",
    "y_train = to_categorical(y_train)"
   ]
  },
  {
   "cell_type": "code",
   "execution_count": 112,
   "metadata": {},
   "outputs": [],
   "source": [
    "#cls = NeuralNet(layer_dims = [2,20,1], normalize = True, learning_rate = 0.5, num_iter = 10000)\n",
    "#cls = NeuralNet(layer_dims = [2,2,1] , learning_rate = 0.5, num_iter = 4000)\n",
    "#cls = NeuralNet(layer_dims = [2,20,1], normalize = True, learning_rate = 1, num_iter = 14000)\n",
    "\n",
    "cls = NeuralNet(normalize = False, learning_rate = 0.1, max_iter = 1000, hidden_layer_sizes = (50,), beta = 0.999, epsilon = 1e-8, tol = 1e-8)"
   ]
  },
  {
   "cell_type": "code",
   "execution_count": 113,
   "metadata": {},
   "outputs": [
    {
     "name": "stdout",
     "output_type": "stream",
     "text": [
      "0-th iteration: 0.23998284960196148\n",
      "100-th iteration: 0.12564587559829332\n",
      "200-th iteration: 0.10743448966033516\n",
      "300-th iteration: 0.11787708675402227\n",
      "400-th iteration: 0.07784809351739402\n",
      "500-th iteration: 0.07346146406149598\n",
      "600-th iteration: 0.05820121703697974\n",
      "700-th iteration: 0.05445949905119655\n",
      "800-th iteration: 0.04986046641441945\n",
      "900-th iteration: 0.04903639322723672\n"
     ]
    },
    {
     "data": {
      "image/png": "[encoded data removed]",
      "text/plain": [
       "<Figure size 432x288 with 1 Axes>"
      ]
     },
     "metadata": {
      "needs_background": "light"
     },
     "output_type": "display_data"
    }
   ],
   "source": [
    "cls.fit(X_train, y_train)"
   ]
  },
  {
   "cell_type": "code",
   "execution_count": 119,
   "metadata": {},
   "outputs": [
    {
     "name": "stdout",
     "output_type": "stream",
     "text": [
      "999\n"
     ]
    }
   ],
   "source": [
    "print(cls.n_iter)"
   ]
  },
  {
   "cell_type": "code",
   "execution_count": 120,
   "metadata": {},
   "outputs": [
    {
     "name": "stdout",
     "output_type": "stream",
     "text": [
      "{'W': [array([[ 0.05801233, -0.02184844, -0.01886328, ..., -0.03952047,\n",
      "        -0.01282943,  0.01804935],\n",
      "       [ 0.04349789, -0.06931003, -0.02879208, ...,  0.00740107,\n",
      "        -0.05121538,  0.02238951],\n",
      "       [ 0.01070804, -0.06630862, -0.07682297, ..., -0.06979256,\n",
      "         0.00665085, -0.00013678],\n",
      "       ...,\n",
      "       [-0.01888887, -0.01178202,  0.00488721, ..., -0.00135933,\n",
      "         0.01519459,  0.0302878 ],\n",
      "       [-0.00011539, -0.02882183, -0.0291148 , ..., -0.00321773,\n",
      "         0.0026965 , -0.02912119],\n",
      "       [-0.01333235, -0.05263958,  0.05322715, ...,  0.02176674,\n",
      "        -0.0006411 ,  0.030889  ]]), array([[-2.68796373e+00, -2.94263799e+00,  1.12686142e+00,\n",
      "         5.90965198e+00,  2.48809378e-03, -3.19520985e+00,\n",
      "        -2.04296986e-01, -4.96124242e-01,  5.93562492e+00,\n",
      "        -1.25843775e+00, -2.90390065e+00, -2.20870397e+00,\n",
      "        -9.03690505e-02, -4.79955316e+00, -8.88450731e-01,\n",
      "        -1.66477990e+00,  4.59317982e-02, -3.00141417e+00,\n",
      "        -3.16938154e+00,  5.83932796e+00, -2.49960838e+00,\n",
      "        -2.95260493e+00, -2.30700578e+00,  5.80502576e+00,\n",
      "        -3.08367559e+00, -3.03822172e+00, -3.14231564e+00,\n",
      "        -3.02338903e+00, -4.81419645e+00, -4.29822546e-01,\n",
      "        -3.21199283e+00, -3.05437243e+00, -3.32568656e+00,\n",
      "        -1.01890113e+00, -3.16145369e+00, -3.18183490e+00,\n",
      "        -3.31584518e+00, -2.73279480e+00, -2.37701297e+00,\n",
      "        -6.25690703e-01, -3.14593358e+00, -2.87275427e-01,\n",
      "        -5.45242459e-01, -5.65668451e-01, -6.50463388e-01,\n",
      "        -3.14230390e+00, -2.24699267e-01, -2.70384894e+00,\n",
      "         1.78611819e+00, -3.13290686e+00],\n",
      "       [ 2.30128267e+00,  2.79674391e+00,  2.77481641e+00,\n",
      "         3.10750249e+00, -1.36508043e-01,  3.01399793e+00,\n",
      "         4.37325064e-01,  2.20496242e+00,  3.16312002e+00,\n",
      "         7.51328617e+00,  2.92731899e+00,  2.48871115e+00,\n",
      "         1.03936974e+00,  5.08224330e+00,  3.15898909e+00,\n",
      "         2.23726203e+00,  2.88158187e+00,  2.91936729e+00,\n",
      "         2.97582112e+00,  3.21165990e+00,  1.65743651e+00,\n",
      "         2.89834086e+00,  2.67722412e+00,  3.22050462e+00,\n",
      "         3.13113714e+00,  3.14117633e+00,  3.05442754e+00,\n",
      "         3.14599901e+00,  5.01847568e+00,  2.72793345e+00,\n",
      "         3.15843474e+00,  3.28784766e+00,  2.10274538e+00,\n",
      "         7.93540424e-01,  3.05639244e+00,  4.05995936e+00,\n",
      "         2.73911599e+00,  2.28862272e+00,  2.65370765e+00,\n",
      "         1.04875895e+00,  3.02447496e+00,  9.22693209e-01,\n",
      "         1.57380165e+00,  4.67439183e+00,  3.31242377e-01,\n",
      "         3.29507771e+00,  1.63318497e+00, -2.86966492e-01,\n",
      "         6.16000959e-02,  3.17039936e+00],\n",
      "       [ 1.27949453e+00,  1.38922880e+00,  1.21942525e+00,\n",
      "         4.71934527e+00,  6.28353843e-02,  2.80842436e+00,\n",
      "         2.75294384e+00,  1.09654669e+00,  4.75429368e+00,\n",
      "         7.85699486e+00,  2.43822231e+00,  3.11750615e+00,\n",
      "         1.14963327e-01,  8.44214845e-01,  3.56921062e-01,\n",
      "         2.30472465e+00,  8.64360510e-04,  2.35124900e+00,\n",
      "         3.02121129e+00,  4.79413115e+00,  2.48425708e-02,\n",
      "         3.61164266e+00,  2.06878730e+00,  4.78615234e+00,\n",
      "         3.14085579e+00,  3.12729806e+00,  2.91962204e+00,\n",
      "         3.18080717e+00, -2.83677969e+00,  8.98374636e-01,\n",
      "         3.00180028e+00,  3.08238995e+00,  1.68878333e+00,\n",
      "         5.56324902e-01,  2.74602336e+00,  1.89007493e+00,\n",
      "         9.40857402e-01,  4.62659650e+00, -4.15161106e-01,\n",
      "         5.39215380e+00,  3.08861722e+00,  7.29264847e-01,\n",
      "         4.75440138e+00,  7.57594306e-01,  1.38217507e-01,\n",
      "         3.02392898e+00,  4.79030067e-01,  1.45224503e+00,\n",
      "         7.19366570e-01,  2.86662674e+00],\n",
      "       [-2.97698769e+00, -3.27298572e+00,  2.81202694e+00,\n",
      "         4.86039684e+00, -1.67544044e-01, -3.23152914e+00,\n",
      "        -2.81034144e-01, -2.99404540e+00,  4.64721807e+00,\n",
      "         5.56423650e+00, -3.18516870e+00, -2.74811324e+00,\n",
      "        -8.89095879e-01, -1.73812922e+00, -9.73971737e-02,\n",
      "        -2.25366757e+00, -1.37461489e-01, -3.11681016e+00,\n",
      "        -3.03925774e+00,  4.86720190e+00, -1.71344297e-01,\n",
      "        -2.91760170e+00, -2.10362669e+00,  5.01031589e+00,\n",
      "        -3.28562495e+00, -3.30428873e+00, -3.06947265e+00,\n",
      "        -3.00029707e+00, -1.75077085e+00,  1.33701547e-01,\n",
      "        -3.25539185e+00, -2.95846294e+00, -2.97020491e+00,\n",
      "        -1.62590277e+00, -2.28771317e+00, -3.25209985e+00,\n",
      "         1.05352654e-01, -1.76942572e+00,  5.12010615e+00,\n",
      "        -1.16757451e+00, -3.05877626e+00, -2.55949859e-01,\n",
      "        -2.17120157e+00,  1.30585755e+00, -1.73340590e+00,\n",
      "        -3.05230627e+00, -3.19683417e+00, -1.05900657e+00,\n",
      "         1.62961387e+00, -2.84573999e+00],\n",
      "       [ 6.53733958e+00,  3.24954078e+00,  6.77985997e-01,\n",
      "         8.19712783e+00,  9.52556076e-01,  1.68296425e-01,\n",
      "         6.27828291e+00,  6.31148066e+00,  1.88448224e+00,\n",
      "         1.17442972e+00, -3.09776709e+00,  4.14113825e+00,\n",
      "         6.38125386e+00,  1.24744331e+00,  4.05523579e+00,\n",
      "         6.28905584e+00,  1.01448384e+00, -3.42822257e+00,\n",
      "         3.11784149e+00,  1.68719780e+00,  6.32416918e+00,\n",
      "        -1.97233562e+00, -1.51407000e-01,  1.92681613e+00,\n",
      "         3.09259756e+00,  3.37828273e+00, -3.25523697e+00,\n",
      "        -3.10225564e+00,  1.64324837e+00,  6.35716292e+00,\n",
      "         2.87220567e+00, -3.24727952e+00,  6.26309750e+00,\n",
      "         5.29202219e+00, -3.19370524e+00,  1.66646312e+00,\n",
      "         5.55596381e+00, -3.53205841e+00, -1.38671193e+00,\n",
      "        -1.72531202e+00,  3.14535794e+00,  3.36649083e+00,\n",
      "        -1.67894172e+00,  3.70348216e+00,  6.34292686e+00,\n",
      "         3.25636290e+00, -2.33443208e-01,  6.77296741e+00,\n",
      "         3.98385037e+00,  3.20663302e+00],\n",
      "       [ 5.85481185e+00, -2.96223962e+00,  3.26444581e+00,\n",
      "         6.21596433e+00,  3.54333139e+00, -1.45589080e+00,\n",
      "         8.37437252e-03,  6.37052674e+00,  6.13312766e+00,\n",
      "         1.11178150e+00, -3.50708535e+00,  5.82240082e+00,\n",
      "         6.20322147e+00, -9.47318237e-01, -5.64006163e-01,\n",
      "        -1.41106497e+00,  3.48611189e+00, -3.14542847e+00,\n",
      "        -3.44749494e+00,  6.12906533e+00, -2.34607660e-01,\n",
      "        -2.54170998e+00,  6.42506814e+00, -4.73772284e-02,\n",
      "        -3.10972155e+00, -3.15953081e+00, -3.07029482e+00,\n",
      "         3.08087739e+00,  2.08224320e+00,  4.03770288e+00,\n",
      "         3.03250347e+00,  2.95694306e+00, -3.10084627e+00,\n",
      "        -1.14534775e+00,  5.82712887e+00, -3.18309713e+00,\n",
      "         1.93253711e-02,  6.38785136e+00,  3.49706432e+00,\n",
      "         6.15398227e+00,  3.20064252e+00, -1.14005304e-02,\n",
      "         6.08097282e+00, -2.25237920e+00,  2.82265768e-02,\n",
      "        -3.20154719e+00,  6.29612742e+00, -2.38439188e+00,\n",
      "         4.96383010e-01, -3.27845347e+00],\n",
      "       [-1.66956291e+00, -3.05623955e+00,  2.42910955e-02,\n",
      "         4.80391691e+00, -3.82571709e-01, -3.20309579e+00,\n",
      "        -1.27958971e-01, -3.13801705e+00,  4.90230003e+00,\n",
      "        -1.13300718e+00, -2.90272731e+00, -2.05015961e+00,\n",
      "        -2.63717339e+00,  4.23565961e+00, -2.28958740e-01,\n",
      "        -1.64760166e+00,  3.74837184e-01, -3.13040738e+00,\n",
      "        -2.95529603e+00,  4.92190570e+00, -9.62736703e-01,\n",
      "        -2.69001237e+00, -3.09570733e+00,  4.90130164e+00,\n",
      "        -3.13083539e+00, -2.94636170e+00, -3.21420152e+00,\n",
      "        -2.97961267e+00, -4.80676509e-01,  3.43770468e-01,\n",
      "        -3.04653997e+00, -2.93589109e+00, -8.58643321e-01,\n",
      "        -2.21746046e+00, -3.03258405e+00, -3.08629633e+00,\n",
      "        -2.11756359e+00, -3.03540819e+00, -3.36445358e+00,\n",
      "        -1.53400855e+00, -2.95004076e+00, -3.11728602e+00,\n",
      "        -9.46171941e-01, -8.50721012e-02, -2.37128747e-01,\n",
      "        -3.19295111e+00, -3.23602576e+00, -1.44281753e+00,\n",
      "         4.13935259e-01, -3.34859342e+00],\n",
      "       [ 3.37852675e+00,  6.69560400e+00,  2.69599536e+00,\n",
      "         3.93229372e+00,  2.61466385e+00,  1.94922282e+00,\n",
      "        -5.28063137e-03,  5.88230522e+00,  3.79567597e+00,\n",
      "         6.87076432e+00,  5.29723121e+00,  2.40215464e+00,\n",
      "         3.52414740e+00, -1.48739955e+00, -2.55723161e-01,\n",
      "         1.52359687e+00,  1.86169964e-01,  4.63711651e+00,\n",
      "         3.12575534e+00,  4.22390628e+00,  8.03270091e-01,\n",
      "         2.77366558e+00,  2.73565380e+00,  4.39754567e+00,\n",
      "         3.17032607e+00,  3.11370621e+00,  3.14802674e+00,\n",
      "         3.22462689e+00, -2.69281095e+00,  2.20706122e-02,\n",
      "         3.15895494e+00,  3.40464763e+00,  4.84692854e+00,\n",
      "         3.33872588e+00,  2.99716325e+00,  2.84560628e+00,\n",
      "         1.13391817e+00,  2.72019468e+00,  3.91031983e+00,\n",
      "         1.08698018e+00,  2.96164774e+00,  7.38610696e-01,\n",
      "         1.07825881e+00,  2.81462863e-01,  5.08613659e-01,\n",
      "         2.94593186e+00,  2.20211899e+00,  7.75554153e+00,\n",
      "         3.73041592e+00,  2.89055968e+00],\n",
      "       [ 2.84798108e-01,  1.56896509e+00,  1.04503940e+00,\n",
      "         4.85351847e+00,  2.65538300e-01,  2.23303416e+00,\n",
      "         1.50127565e-01,  2.08924957e-01,  5.04989103e+00,\n",
      "         4.37518540e+00,  2.29253289e+00,  1.32249715e+00,\n",
      "         5.99089148e-02, -2.03834369e+00, -3.28598580e-02,\n",
      "         5.51830383e-01,  4.81416875e-01,  2.29459930e+00,\n",
      "         3.09606703e+00,  4.98440655e+00, -1.46095575e-01,\n",
      "         2.40080335e+00,  1.04864080e+00,  5.09211370e+00,\n",
      "         2.78279515e+00,  2.94698286e+00,  2.98914972e+00,\n",
      "         3.12362404e+00,  3.15022780e+00,  3.02189995e-02,\n",
      "         3.03113149e+00,  3.03114727e+00,  4.05037947e-01,\n",
      "        -2.15023842e-01,  2.94075714e+00,  2.78044216e+00,\n",
      "        -1.94181193e-02,  1.55073604e+00, -4.88083087e-01,\n",
      "         1.83160191e-01,  3.04413827e+00,  1.72693532e-01,\n",
      "         2.34351543e-01,  4.66481718e-02, -6.52016249e-02,\n",
      "         3.06186000e+00,  1.68021888e-01, -1.58240285e+00,\n",
      "         8.06888169e-01,  3.06667152e+00],\n",
      "       [ 4.89657313e-02,  3.29074211e-01,  1.35439292e+00,\n",
      "         8.18262136e+00,  1.09163698e+00, -2.18569060e+00,\n",
      "        -7.55898556e-01, -2.10682783e-01,  2.15086616e+00,\n",
      "         2.32610132e+00, -3.50000597e+00, -2.16958067e+00,\n",
      "        -8.69216925e-02, -1.36473561e+00, -9.06516481e-02,\n",
      "         6.20999955e+00,  6.49051512e-01,  1.75291892e+00,\n",
      "        -3.02281005e+00,  1.89428641e+00,  6.32075578e+00,\n",
      "        -2.98258220e+00,  5.84857756e+00,  8.44213268e+00,\n",
      "         3.54182683e+00,  3.51566816e+00, -2.98016172e+00,\n",
      "        -2.76492308e+00,  9.31990815e-01,  6.15969638e-02,\n",
      "        -3.09433367e+00, -3.21909566e+00, -1.22170914e-02,\n",
      "         6.90961161e+00, -3.21854811e+00, -3.52744394e+00,\n",
      "         6.15313634e+00, -3.04136071e+00,  2.72632545e+00,\n",
      "        -3.24196291e+00, -3.15211979e+00,  3.77212031e+00,\n",
      "        -2.46829655e+00,  6.30882690e+00,  6.21428147e+00,\n",
      "        -3.09086719e+00,  1.22939048e-01,  5.73939044e+00,\n",
      "         8.11225334e+00, -3.13809752e+00]])], 'b': [array([[-5.97425271e+00],\n",
      "       [-3.24468668e+00],\n",
      "       [-1.10356330e+00],\n",
      "       [ 3.16211879e+00],\n",
      "       [-2.52413498e+00],\n",
      "       [-6.13662507e+00],\n",
      "       [-6.23783146e+00],\n",
      "       [-6.26789272e+00],\n",
      "       [ 3.16216211e+00],\n",
      "       [-7.02604872e+00],\n",
      "       [-3.18623186e+00],\n",
      "       [-4.64653267e+00],\n",
      "       [-1.08082067e-02],\n",
      "       [ 4.21835099e+00],\n",
      "       [-1.19052214e+00],\n",
      "       [-5.21610721e+00],\n",
      "       [-1.76117550e+00],\n",
      "       [-3.16205649e+00],\n",
      "       [-3.16216539e+00],\n",
      "       [ 3.16209283e+00],\n",
      "       [-3.01493923e-01],\n",
      "       [-3.70129612e+00],\n",
      "       [-5.30419749e+00],\n",
      "       [ 3.16464330e+00],\n",
      "       [-3.16212679e+00],\n",
      "       [-3.40954150e+00],\n",
      "       [-3.16210884e+00],\n",
      "       [-3.38320917e+00],\n",
      "       [-3.08124383e+00],\n",
      "       [-2.55610658e+00],\n",
      "       [-3.16190478e+00],\n",
      "       [-3.16207759e+00],\n",
      "       [-6.26169106e+00],\n",
      "       [-6.11719464e-01],\n",
      "       [-3.87468401e+00],\n",
      "       [-3.09775973e+00],\n",
      "       [-6.31269186e+00],\n",
      "       [-5.33746004e+00],\n",
      "       [-1.13675935e+01],\n",
      "       [-6.17997033e+00],\n",
      "       [-3.17231650e+00],\n",
      "       [-6.15469982e+00],\n",
      "       [-5.91833811e+00],\n",
      "       [-1.97268561e+00],\n",
      "       [-6.30162808e+00],\n",
      "       [-3.16190572e+00],\n",
      "       [-6.13128227e+00],\n",
      "       [ 4.85636383e+00],\n",
      "       [-1.09493266e+00],\n",
      "       [-3.41014254e+00]]), array([[4.78700008],\n",
      "       [3.31169541],\n",
      "       [4.84865346],\n",
      "       [4.89024746],\n",
      "       [8.1654537 ],\n",
      "       [6.06579811],\n",
      "       [4.55288387],\n",
      "       [4.2459113 ],\n",
      "       [4.83989666],\n",
      "       [2.0582398 ]])]}\n"
     ]
    }
   ],
   "source": [
    "print(cls.parameters)"
   ]
  },
  {
   "cell_type": "code",
   "execution_count": 121,
   "metadata": {},
   "outputs": [
    {
     "data": {
      "text/plain": [
       "array([[8.48208525e-08, 9.43008327e-01, 1.98378844e-02, ...,\n",
       "        3.03935245e-05, 3.40382011e-02, 1.15566457e-04],\n",
       "       [9.03896806e-01, 4.27302589e-06, 1.13891417e-02, ...,\n",
       "        4.17036078e-04, 2.85001947e-02, 3.51919021e-03],\n",
       "       [5.80005509e-10, 9.86868349e-01, 9.64819962e-04, ...,\n",
       "        1.11754365e-04, 1.53903293e-03, 1.30050791e-04],\n",
       "       ...,\n",
       "       [3.37131730e-08, 1.76352052e-06, 1.75365426e-03, ...,\n",
       "        9.89307990e-01, 6.03350576e-06, 3.61470658e-03],\n",
       "       [7.46135861e-03, 6.90310153e-04, 2.65611796e-02, ...,\n",
       "        9.44762670e-05, 3.72155916e-03, 9.01289089e-04],\n",
       "       [1.73604248e-02, 9.20059113e-07, 1.39605062e-02, ...,\n",
       "        2.79299842e-01, 1.68006921e-03, 3.13860391e-01]])"
      ]
     },
     "execution_count": 121,
     "metadata": {},
     "output_type": "execute_result"
    }
   ],
   "source": [
    "Y_prob = cls.predict_proba(X)\n",
    "Y_prob"
   ]
  },
  {
   "cell_type": "code",
   "execution_count": 135,
   "metadata": {},
   "outputs": [
    {
     "data": {
      "text/plain": [
       "array([1, 0, 1, ..., 7, 6, 4], dtype=int64)"
      ]
     },
     "execution_count": 135,
     "metadata": {},
     "output_type": "execute_result"
    }
   ],
   "source": [
    "Y_hat = cls.predict(X)\n",
    "Y_hat"
   ]
  },
  {
   "cell_type": "code",
   "execution_count": 134,
   "metadata": {},
   "outputs": [
    {
     "data": {
      "text/plain": [
       "8"
      ]
     },
     "execution_count": 134,
     "metadata": {},
     "output_type": "execute_result"
    }
   ],
   "source": [
    "Y_hat[20]"
   ]
  },
  {
   "cell_type": "code",
   "execution_count": 132,
   "metadata": {},
   "outputs": [
    {
     "data": {
      "text/plain": [
       "0.8554761904761905"
      ]
     },
     "execution_count": 132,
     "metadata": {},
     "output_type": "execute_result"
    }
   ],
   "source": [
    "accuracy_score(y, Y_hat)"
   ]
  },
  {
   "cell_type": "code",
   "execution_count": 114,
   "metadata": {},
   "outputs": [],
   "source": [
    "#plot_data(X, Y)\n",
    "#plot_surface(cls, X[:, 0], X[:, 1])"
   ]
  },
  {
   "cell_type": "code",
   "execution_count": 125,
   "metadata": {},
   "outputs": [
    {
     "data": {
      "text/plain": [
       "array([8, 1, 9, ..., 3, 0, 4], dtype=int64)"
      ]
     },
     "execution_count": 125,
     "metadata": {},
     "output_type": "execute_result"
    }
   ],
   "source": [
    "Y_hat = cls.predict(X_test)\n",
    "Y_hat"
   ]
  },
  {
   "cell_type": "code",
   "execution_count": 126,
   "metadata": {},
   "outputs": [
    {
     "data": {
      "text/plain": [
       "0.8505952380952381"
      ]
     },
     "execution_count": 126,
     "metadata": {},
     "output_type": "execute_result"
    }
   ],
   "source": [
    "accuracy_score(y_test, Y_hat)"
   ]
  },
  {
   "cell_type": "code",
   "execution_count": null,
   "metadata": {},
   "outputs": [],
   "source": []
  },
  {
   "cell_type": "code",
   "execution_count": 141,
   "metadata": {},
   "outputs": [],
   "source": [
    "#from sklearn.neural_network import MLPClassifier\n",
    "#clf = MLPClassifier(hidden_layer_sizes = (20,), max_iter = 10000, activation = 'relu', solver = 'sgd', learning_rate_init = 0.01, learning_rate = 'constant')"
   ]
  },
  {
   "cell_type": "code",
   "execution_count": 142,
   "metadata": {},
   "outputs": [],
   "source": [
    "#clf.fit(X, y)"
   ]
  },
  {
   "cell_type": "code",
   "execution_count": 143,
   "metadata": {},
   "outputs": [],
   "source": [
    "#plot_data(X, Y)\n",
    "#plot_surface(clf, X[:, 0], X[:, 1])"
   ]
  },
  {
   "cell_type": "code",
   "execution_count": 144,
   "metadata": {},
   "outputs": [],
   "source": [
    "#accuracy_score(Y, clf.predict(X))"
   ]
  },
  {
   "cell_type": "code",
   "execution_count": null,
   "metadata": {},
   "outputs": [],
   "source": []
  }
 ],
 "metadata": {
  "anaconda-cloud": {},
  "kernelspec": {
   "display_name": "Python 3",
   "language": "python",
   "name": "python3"
  },
  "language_info": {
   "codemirror_mode": {
    "name": "ipython",
    "version": 3
   },
   "file_extension": ".py",
   "mimetype": "text/x-python",
   "name": "python",
   "nbconvert_exporter": "python",
   "pygments_lexer": "ipython3",
   "version": "3.7.4"
  }
 },
 "nbformat": 4,
 "nbformat_minor": 1
}
