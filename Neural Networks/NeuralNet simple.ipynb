{
 "cells": [
  {
   "cell_type": "code",
   "execution_count": 1,
   "metadata": {},
   "outputs": [],
   "source": [
    "import numpy as np\n",
    "import pandas as pd\n",
    "from sklearn.model_selection import train_test_split\n",
    "from mpl_toolkits.mplot3d import Axes3D\n",
    "import matplotlib.pyplot as plt\n",
    "\n",
    "from matplotlib.colors import ListedColormap\n",
    "cm_bright = ListedColormap(['#FF0000', '#0000FF'])\n",
    "%matplotlib inline\n",
    "from sklearn.metrics import accuracy_score\n",
    "\n",
    "import sklearn.linear_model"
   ]
  },
  {
   "cell_type": "code",
   "execution_count": 2,
   "metadata": {},
   "outputs": [],
   "source": [
    "def plot_surface(cls, x_1, x_2, ax=None, threshold=0.5, contourf=False):\n",
    "    xx1, xx2 = np.meshgrid(np.linspace(x_1.min(), x_1.max(), 100), \n",
    "                           np.linspace(x_2.min(), x_2.max(), 100))\n",
    "\n",
    "    X_pred = np.c_[xx1.ravel(), xx2.ravel()]\n",
    "    pred = cls.predict_proba(X_pred)[:, 0]\n",
    "    Z = pred.reshape((100, 100))\n",
    "    if ax is None:\n",
    "        ax = plt.gca()\n",
    "    ax.contour(xx1, xx2, Z, levels=[threshold], colors='black')\n",
    "    ax.set_xlim((x_1.min(), x_1.max()))\n",
    "    ax.set_ylim((x_2.min(), x_2.max()))"
   ]
  },
  {
   "cell_type": "code",
   "execution_count": 3,
   "metadata": {},
   "outputs": [],
   "source": [
    "def plot_data(X, y):\n",
    "    ax = plt.gca()\n",
    "    ax.scatter(X[:,0], X[:,1], c=(y == 1), cmap=cm_bright)"
   ]
  },
  {
   "cell_type": "code",
   "execution_count": 4,
   "metadata": {},
   "outputs": [],
   "source": [
    "class NeuralNet:\n",
    "    \"\"\"\n",
    "    NN for binary classification\n",
    "    Attributes:\n",
    "    ...\n",
    "    \"\"\"\n",
    "    \n",
    "    def __init__(self, layer_dims, normalize = True, learning_rate = 0.01, num_iter = 30000):\n",
    "        self.learning_rate = learning_rate\n",
    "        self.num_iter = num_iter\n",
    "        self.normalize = normalize\n",
    "        self.layer_dims = layer_dims\n",
    "    \n",
    "    def __normalize(self, X, mean = None, std = None):\n",
    "        n = X.shape[0]\n",
    "        m = mean\n",
    "        if m is None:\n",
    "            m = np.mean(X, axis=1).reshape((n, 1))\n",
    "        s = std\n",
    "        if s is None:\n",
    "            s = np.std(X, axis=1).reshape((n, 1))\n",
    "        X_new = (X - m) / s**2\n",
    "        return X_new, m, s\n",
    "\n",
    "    def __sigmoid(self, Z):\n",
    "        return 1 / (1 + np.exp(-Z))\n",
    "    \n",
    "    ########################################################################################################################\n",
    "    \n",
    "    def __initialize_parameters(self):\n",
    "        layer_dims = self.layer_dims\n",
    "        parameters = {}\n",
    "        np.random.seed(1)\n",
    "        for i in range(1,len(layer_dims)):\n",
    "            parameters['W' + str(i)] = np.random.randn(layer_dims[i], layer_dims[i-1]) * 0.01\n",
    "            parameters['b' + str(i)] = np.zeros((layer_dims[i], 1))\n",
    "        self.parameters = parameters\n",
    "\n",
    "        \n",
    "        \n",
    "    # Forvard part\n",
    "    def __forward_linear_activation(self, A_prev, W, b):\n",
    "        Z = np.dot(W, A_prev) + b\n",
    "        linear_cache = (A_prev, W, b)\n",
    "        A = self.__sigmoid(Z)\n",
    "        activation_cache = Z\n",
    "        cache = (linear_cache, activation_cache)\n",
    "        return A, cache\n",
    "    \n",
    "    def __multilayer_forward(self, X):       \n",
    "        parameters = self.parameters\n",
    "        caches = []\n",
    "        L = len(parameters)//2\n",
    "        for i in range(1, L):\n",
    "            A_prev = X \n",
    "            A, cache = self.__forward_linear_activation(A_prev, parameters[\"W\"+str(i)], parameters[\"b\"+str(i)])\n",
    "            caches.append(cache)\n",
    "        AL, cache = self.__forward_linear_activation(A, parameters[\"W\"+str(L)], parameters[\"b\"+str(L)])\n",
    "        caches.append(cache)\n",
    "        assert(AL.shape == (1,X.shape[1]))\n",
    "        return AL, caches\n",
    "\n",
    "    \n",
    "    \n",
    "    # Backward part\n",
    "    def __backward_linear_activation(self, dA, cache):\n",
    "        linear_cache, activation_cache = cache\n",
    "        Z = activation_cache\n",
    "        s = 1/(1 + np.exp(-Z))\n",
    "        dZ = dA * s * (1-s)\n",
    "        A_prev, W, b = linear_cache\n",
    "        m = A_prev.shape[1]\n",
    "        dW = 1 / m * np.dot(dZ, A_prev.T)\n",
    "        db = 1 / m * np.sum(dZ, axis = 1, keepdims = True)\n",
    "        dA_prev = np.dot(W.T, dZ)\n",
    "        return dA_prev, dW, db\n",
    "\n",
    "    def __multilayer_backward(self, X, Y, caches):\n",
    "        grads = {}\n",
    "        AL = X\n",
    "        L = len(caches)\n",
    "        m = AL.shape[1]\n",
    "        Y = Y.reshape(AL.shape)\n",
    "        dAL = -(np.divide(Y, AL) - np.divide(1 - Y, 1 - AL))\n",
    "        current_cache = caches[L-1]\n",
    "        grads[\"dA\" + str(L-1)], grads[\"dW\" + str(L)], grads[\"db\" + str(L)] = self.__backward_linear_activation(dAL, current_cache)\n",
    "        for i in reversed(range(L-1)):\n",
    "            current_cache = caches[i]\n",
    "            dA_prev_temp, dW_temp, db_temp = self.__backward_linear_activation(grads[\"dA\" + str(i + 1)], current_cache)\n",
    "            grads[\"dA\" + str(i)] = dA_prev_temp\n",
    "            grads[\"dW\" + str(i + 1)] = dW_temp\n",
    "            grads[\"db\" + str(i + 1)] = db_temp\n",
    "        return grads\n",
    "    \n",
    "    \n",
    "    \n",
    "    def __update_parameters(self, grads):\n",
    "        parameters = self.parameters;\n",
    "        learning_rate = self.learning_rate\n",
    "        L = len(parameters) // 2\n",
    "        for i in range(L):\n",
    "            parameters[\"W\" + str(i + 1)] = parameters[\"W\" + str(i + 1)] - learning_rate * grads[\"dW\" + str(i + 1)]\n",
    "            parameters[\"b\" + str(i + 1)] = parameters[\"b\" + str(i + 1)] - learning_rate * grads[\"db\" + str(i + 1)]\n",
    "        self.parameters = parameters;\n",
    "        \n",
    "    def compute_cost(self, A, Y):\n",
    "        m = Y.shape[1]\n",
    "        res = Y * np.log(A) + (1 - Y) * np.log(1 - A)\n",
    "        J = -(1 / m) * np.sum(res)\n",
    "        return J\n",
    "\n",
    "    def fit(self, X_vert, Y_vert, print_cost = True):\n",
    "        X, Y = X_vert.T, Y_vert.T\n",
    "        \n",
    "        if self.normalize:\n",
    "            X, self.__mean, self.__std = self.__normalize(X)\n",
    "        costs = []\n",
    "        self.__initialize_parameters()\n",
    "        \n",
    "        for i in range(0, self.num_iter):\n",
    "            AL, caches = self.__multilayer_forward(X)\n",
    "            cost = self.compute_cost(AL, Y)\n",
    "            grads = self.__multilayer_backward(AL, Y, caches)\n",
    "            self.__update_parameters(grads)\n",
    "            if print_cost and i % 100 == 0:\n",
    "                print (\"Cost after iteration %i: %f\" %(i, cost))\n",
    "            if print_cost and i % 100 == 0:\n",
    "                costs.append(cost)\n",
    "\n",
    "        if print_cost:\n",
    "                plt.plot(costs)\n",
    "                plt.ylabel(\"Cost\")\n",
    "                plt.xlabel(\"Iteration, *1000\")\n",
    "                plt.show()\n",
    "\n",
    "    \n",
    "    def predict(self, X_vert):\n",
    "        positive_probs = self.predict_proba(X_vert)[:, 0]\n",
    "        return (positive_probs >= 0.5).astype(int)  \n",
    "    \n",
    "    def predict_proba(self, X_vert):\n",
    "        X = X_vert.T\n",
    "        if self.normalize:\n",
    "            X, _, _ = self.__normalize(X, self.__mean, self.__std)\n",
    "        probs = self.__multilayer_forward(X)[0]\n",
    "        return np.column_stack((probs.T, 1 - probs.T))\n",
    "    \n",
    "    "
   ]
  },
  {
   "cell_type": "code",
   "execution_count": null,
   "metadata": {},
   "outputs": [],
   "source": []
  },
  {
   "cell_type": "code",
   "execution_count": 5,
   "metadata": {},
   "outputs": [],
   "source": [
    "#data_columns = [\"exam1\", \"exam2\"]\n",
    "#target_column = \"submitted\"\n",
    "#df = pd.read_csv(\"sats.csv\")\n",
    "#X, Y = df[data_columns].values, df[target_column].values.reshape((df.shape[0], 1))\n",
    "#print('Training set: X={}, y={}'.format(X.shape, Y.shape))"
   ]
  },
  {
   "cell_type": "code",
   "execution_count": 6,
   "metadata": {},
   "outputs": [
    {
     "name": "stdout",
     "output_type": "stream",
     "text": [
      "Training set: X=(118, 2), y=(118,)\n"
     ]
    }
   ],
   "source": [
    "data_columns = [\"test1\", \"test2\"]\n",
    "target_column = \"passed\"\n",
    "df = pd.read_csv(\"tests.csv\")\n",
    "X, Y = df[data_columns].values, df[target_column]\n",
    "print('Training set: X={}, y={}'.format(X.shape, Y.shape))"
   ]
  },
  {
   "cell_type": "code",
   "execution_count": 7,
   "metadata": {},
   "outputs": [
    {
     "data": {
      "image/png": "[encoded data removed]",
      "text/plain": [
       "<Figure size 432x288 with 1 Axes>"
      ]
     },
     "metadata": {
      "needs_background": "light"
     },
     "output_type": "display_data"
    }
   ],
   "source": [
    "plot_data(X, Y)"
   ]
  },
  {
   "cell_type": "code",
   "execution_count": 8,
   "metadata": {},
   "outputs": [],
   "source": [
    "cls = NeuralNet(layer_dims = [2,20,1], normalize = True, learning_rate = 0.5, num_iter = 10000)\n",
    "#cls = NeuralNet(layer_dims = [2,2,1] , learning_rate = 0.5, num_iter = 4000)\n",
    "#cls = NeuralNet(layer_dims = [2,20,1], normalize = True, learning_rate = 1, num_iter = 14000)"
   ]
  },
  {
   "cell_type": "code",
   "execution_count": 9,
   "metadata": {},
   "outputs": [
    {
     "name": "stdout",
     "output_type": "stream",
     "text": [
      "Cost after iteration 0: 0.693375\n",
      "Cost after iteration 100: 0.692494\n",
      "Cost after iteration 200: 0.690371\n",
      "Cost after iteration 300: 0.690174\n",
      "Cost after iteration 400: 0.690076\n",
      "Cost after iteration 500: 0.689891\n",
      "Cost after iteration 600: 0.689336\n",
      "Cost after iteration 700: 0.686717\n",
      "Cost after iteration 800: 0.676092\n",
      "Cost after iteration 900: 0.645763\n",
      "Cost after iteration 1000: 0.604054\n",
      "Cost after iteration 1100: 0.583968\n",
      "Cost after iteration 1200: 0.543418\n",
      "Cost after iteration 1300: 0.480817\n",
      "Cost after iteration 1400: 0.435991\n",
      "Cost after iteration 1500: 0.408654\n",
      "Cost after iteration 1600: 0.390582\n",
      "Cost after iteration 1700: 0.376805\n",
      "Cost after iteration 1800: 0.364515\n",
      "Cost after iteration 1900: 0.352246\n",
      "Cost after iteration 2000: 0.342077\n",
      "Cost after iteration 2100: 0.334722\n",
      "Cost after iteration 2200: 0.328427\n",
      "Cost after iteration 2300: 0.323034\n",
      "Cost after iteration 2400: 0.318466\n",
      "Cost after iteration 2500: 0.314234\n",
      "Cost after iteration 2600: 0.310039\n",
      "Cost after iteration 2700: 0.306148\n",
      "Cost after iteration 2800: 0.302602\n",
      "Cost after iteration 2900: 0.299346\n",
      "Cost after iteration 3000: 0.296345\n",
      "Cost after iteration 3100: 0.293574\n",
      "Cost after iteration 3200: 0.291008\n",
      "Cost after iteration 3300: 0.288623\n",
      "Cost after iteration 3400: 0.286390\n",
      "Cost after iteration 3500: 0.284287\n",
      "Cost after iteration 3600: 0.282292\n",
      "Cost after iteration 3700: 0.280387\n",
      "Cost after iteration 3800: 0.278558\n",
      "Cost after iteration 3900: 0.276791\n",
      "Cost after iteration 4000: 0.275074\n",
      "Cost after iteration 4100: 0.273394\n",
      "Cost after iteration 4200: 0.271737\n",
      "Cost after iteration 4300: 0.270092\n",
      "Cost after iteration 4400: 0.268450\n",
      "Cost after iteration 4500: 0.266801\n",
      "Cost after iteration 4600: 0.265145\n",
      "Cost after iteration 4700: 0.263487\n",
      "Cost after iteration 4800: 0.261841\n",
      "Cost after iteration 4900: 0.260218\n",
      "Cost after iteration 5000: 0.258619\n",
      "Cost after iteration 5100: 0.257049\n",
      "Cost after iteration 5200: 0.255514\n",
      "Cost after iteration 5300: 0.254017\n",
      "Cost after iteration 5400: 0.252558\n",
      "Cost after iteration 5500: 0.251131\n",
      "Cost after iteration 5600: 0.249732\n",
      "Cost after iteration 5700: 0.248358\n",
      "Cost after iteration 5800: 0.247005\n",
      "Cost after iteration 5900: 0.245674\n",
      "Cost after iteration 6000: 0.244363\n",
      "Cost after iteration 6100: 0.243072\n",
      "Cost after iteration 6200: 0.241802\n",
      "Cost after iteration 6300: 0.240552\n",
      "Cost after iteration 6400: 0.239322\n",
      "Cost after iteration 6500: 0.238111\n",
      "Cost after iteration 6600: 0.236917\n",
      "Cost after iteration 6700: 0.235739\n",
      "Cost after iteration 6800: 0.234575\n",
      "Cost after iteration 6900: 0.246287\n",
      "Cost after iteration 7000: 0.238454\n",
      "Cost after iteration 7100: 0.235947\n",
      "Cost after iteration 7200: 0.234075\n",
      "Cost after iteration 7300: 0.232446\n",
      "Cost after iteration 7400: 0.230953\n",
      "Cost after iteration 7500: 0.229560\n",
      "Cost after iteration 7600: 0.228247\n",
      "Cost after iteration 7700: 0.227004\n",
      "Cost after iteration 7800: 0.225823\n",
      "Cost after iteration 7900: 0.224695\n",
      "Cost after iteration 8000: 0.223613\n",
      "Cost after iteration 8100: 0.222573\n",
      "Cost after iteration 8200: 0.221568\n",
      "Cost after iteration 8300: 0.220594\n",
      "Cost after iteration 8400: 0.219646\n",
      "Cost after iteration 8500: 0.218718\n",
      "Cost after iteration 8600: 0.217806\n",
      "Cost after iteration 8700: 0.216904\n",
      "Cost after iteration 8800: 0.216006\n",
      "Cost after iteration 8900: 0.215107\n",
      "Cost after iteration 9000: 0.214193\n",
      "Cost after iteration 9100: 0.213237\n",
      "Cost after iteration 9200: 0.212177\n",
      "Cost after iteration 9300: 0.210948\n",
      "Cost after iteration 9400: 0.209529\n",
      "Cost after iteration 9500: 0.208014\n",
      "Cost after iteration 9600: 0.206621\n",
      "Cost after iteration 9700: 0.205374\n",
      "Cost after iteration 9800: 0.204164\n",
      "Cost after iteration 9900: 0.202914\n",
      "Cost after iteration 10000: 0.201605\n",
      "Cost after iteration 10100: 0.200237\n",
      "Cost after iteration 10200: 0.198814\n",
      "Cost after iteration 10300: 0.197338\n",
      "Cost after iteration 10400: 0.195808\n",
      "Cost after iteration 10500: 0.194226\n",
      "Cost after iteration 10600: 0.192606\n",
      "Cost after iteration 10700: 0.190971\n",
      "Cost after iteration 10800: 0.189336\n",
      "Cost after iteration 10900: 0.187712\n",
      "Cost after iteration 11000: 0.186108\n",
      "Cost after iteration 11100: 0.184608\n",
      "Cost after iteration 11200: 0.183348\n",
      "Cost after iteration 11300: 0.182190\n",
      "Cost after iteration 11400: 0.181090\n",
      "Cost after iteration 11500: 0.180055\n",
      "Cost after iteration 11600: 0.179053\n",
      "Cost after iteration 11700: 0.178069\n",
      "Cost after iteration 11800: 0.177101\n",
      "Cost after iteration 11900: 0.176148\n",
      "Cost after iteration 12000: 0.175210\n",
      "Cost after iteration 12100: 0.174289\n",
      "Cost after iteration 12200: 0.173385\n",
      "Cost after iteration 12300: 0.172500\n",
      "Cost after iteration 12400: 0.171631\n",
      "Cost after iteration 12500: 0.170780\n",
      "Cost after iteration 12600: 0.169945\n",
      "Cost after iteration 12700: 0.169123\n",
      "Cost after iteration 12800: 0.168312\n",
      "Cost after iteration 12900: 0.167510\n",
      "Cost after iteration 13000: 0.166716\n",
      "Cost after iteration 13100: 0.165930\n",
      "Cost after iteration 13200: 0.165152\n",
      "Cost after iteration 13300: 0.164383\n",
      "Cost after iteration 13400: 0.163624\n",
      "Cost after iteration 13500: 0.162874\n",
      "Cost after iteration 13600: 0.162132\n",
      "Cost after iteration 13700: 0.161400\n",
      "Cost after iteration 13800: 0.160676\n",
      "Cost after iteration 13900: 0.159960\n"
     ]
    },
    {
     "data": {
      "image/png": "[encoded data removed]",
      "text/plain": [
       "<Figure size 432x288 with 1 Axes>"
      ]
     },
     "metadata": {
      "needs_background": "light"
     },
     "output_type": "display_data"
    }
   ],
   "source": [
    "cls.fit(X, Y.values.reshape((df.shape[0], 1)))"
   ]
  },
  {
   "cell_type": "code",
   "execution_count": 10,
   "metadata": {},
   "outputs": [
    {
     "name": "stdout",
     "output_type": "stream",
     "text": [
      "{'W1': array([[  2.83796529,  -0.88145548],\n",
      "       [ -4.08436797,   3.45942622],\n",
      "       [  1.51714407, -14.47341644],\n",
      "       [  0.96409361,   0.43809938],\n",
      "       [  1.65184664,  -0.75026545],\n",
      "       [  6.55927739,   6.08291953],\n",
      "       [  1.54624562,   0.318103  ],\n",
      "       [  3.17996632,   0.91512039],\n",
      "       [  0.99819611,   0.25070614],\n",
      "       [ -1.59770007,  -9.62057375],\n",
      "       [  0.54956004,   3.0056181 ],\n",
      "       [ -5.34645728,  -1.44231045],\n",
      "       [  3.22564886,  -5.75573641],\n",
      "       [ -3.33226494,  -0.31659732],\n",
      "       [  2.23062353,   0.52547801],\n",
      "       [  9.25158525,   1.45128973],\n",
      "       [  1.16683501,   0.24759074],\n",
      "       [  1.24785507,   0.25594812],\n",
      "       [ -0.3019523 ,   1.91223805],\n",
      "       [ -0.31847688,   1.04291053]]), 'b1': array([[ 7.64021296e+00],\n",
      "       [-2.13238342e+00],\n",
      "       [-7.54137458e+00],\n",
      "       [-3.25901452e-01],\n",
      "       [ 5.54622318e-03],\n",
      "       [-1.18410750e+01],\n",
      "       [-3.68557814e+00],\n",
      "       [ 1.93285604e+00],\n",
      "       [-1.71695467e+00],\n",
      "       [ 1.45321253e+01],\n",
      "       [ 8.97225351e+00],\n",
      "       [ 7.66256179e+00],\n",
      "       [-7.08449057e+00],\n",
      "       [-1.01994717e+01],\n",
      "       [-5.43004728e+00],\n",
      "       [ 1.05415350e+01],\n",
      "       [-2.41171992e+00],\n",
      "       [-2.70493689e+00],\n",
      "       [ 5.21925711e+00],\n",
      "       [ 8.08987586e-02]]), 'W2': array([[  6.38268185,  -7.66196127, -11.75383379,  -2.66025532,\n",
      "         -2.75958599, -13.82905099,  -3.99545279,   2.52864581,\n",
      "         -3.172376  ,  10.14336477,   9.29628188,  -7.45931627,\n",
      "        -10.5734889 ,  -9.76932976,  -5.33904828,  12.88691892,\n",
      "         -3.38213918,  -3.49978817,   3.69226293,  -2.71115753]]), 'b2': array([[-4.46929563]])}\n"
     ]
    }
   ],
   "source": [
    "print(cls.parameters)"
   ]
  },
  {
   "cell_type": "code",
   "execution_count": 11,
   "metadata": {},
   "outputs": [
    {
     "data": {
      "text/plain": [
       "array([[9.99971087e-01, 2.89131849e-05],\n",
       "       [9.49143781e-01, 5.08562191e-02],\n",
       "       [9.99964616e-01, 3.53840877e-05],\n",
       "       [9.97600444e-01, 2.39955599e-03],\n",
       "       [9.73008015e-01, 2.69919847e-02],\n",
       "       [9.92185224e-01, 7.81477596e-03],\n",
       "       [9.98595147e-01, 1.40485257e-03],\n",
       "       [7.98878500e-01, 2.01121500e-01],\n",
       "       [9.76942452e-01, 2.30575477e-02],\n",
       "       [8.71709353e-01, 1.28290647e-01],\n",
       "       [5.16100657e-01, 4.83899343e-01],\n",
       "       [6.32962335e-01, 3.67037665e-01],\n",
       "       [9.77147304e-01, 2.28526961e-02],\n",
       "       [3.02873233e-01, 6.97126767e-01],\n",
       "       [9.97561460e-01, 2.43854025e-03],\n",
       "       [9.54917808e-01, 4.50821921e-02],\n",
       "       [9.99998886e-01, 1.11358703e-06],\n",
       "       [9.58719550e-01, 4.12804504e-02],\n",
       "       [9.99969679e-01, 3.03205574e-05],\n",
       "       [8.76465090e-01, 1.23534910e-01],\n",
       "       [5.64978085e-01, 4.35021915e-01],\n",
       "       [6.38071201e-01, 3.61928799e-01],\n",
       "       [9.00845135e-01, 9.91548654e-02],\n",
       "       [3.16991103e-01, 6.83008897e-01],\n",
       "       [6.67006855e-01, 3.32993145e-01],\n",
       "       [4.25883823e-01, 5.74116177e-01],\n",
       "       [5.16623505e-01, 4.83376495e-01],\n",
       "       [8.50900102e-01, 1.49099898e-01],\n",
       "       [9.99999997e-01, 3.39294925e-09],\n",
       "       [9.82904678e-01, 1.70953218e-02],\n",
       "       [9.98926947e-01, 1.07305312e-03],\n",
       "       [9.99910638e-01, 8.93621148e-05],\n",
       "       [9.99997890e-01, 2.11039353e-06],\n",
       "       [9.99983781e-01, 1.62187710e-05],\n",
       "       [9.98871391e-01, 1.12860876e-03],\n",
       "       [9.98548092e-01, 1.45190844e-03],\n",
       "       [9.41905933e-01, 5.80940673e-02],\n",
       "       [9.99995380e-01, 4.62034422e-06],\n",
       "       [9.99922854e-01, 7.71459903e-05],\n",
       "       [9.71003189e-01, 2.89968111e-02],\n",
       "       [9.79135224e-01, 2.08647757e-02],\n",
       "       [9.78163653e-01, 2.18363466e-02],\n",
       "       [9.51506185e-01, 4.84938152e-02],\n",
       "       [9.97109605e-01, 2.89039499e-03],\n",
       "       [9.37316823e-01, 6.26831774e-02],\n",
       "       [9.99959358e-01, 4.06420216e-05],\n",
       "       [8.93395721e-01, 1.06604279e-01],\n",
       "       [9.99991543e-01, 8.45669475e-06],\n",
       "       [7.45764157e-01, 2.54235843e-01],\n",
       "       [3.51551444e-01, 6.48448556e-01],\n",
       "       [9.99942731e-01, 5.72689673e-05],\n",
       "       [9.99999999e-01, 5.96287908e-10],\n",
       "       [9.99999995e-01, 4.67085348e-09],\n",
       "       [9.99999982e-01, 1.77093079e-08],\n",
       "       [9.99999922e-01, 7.82146040e-08],\n",
       "       [9.98335943e-01, 1.66405663e-03],\n",
       "       [9.96516425e-01, 3.48357475e-03],\n",
       "       [9.97129294e-01, 2.87070619e-03],\n",
       "       [5.46278401e-03, 9.94537216e-01],\n",
       "       [6.50228739e-03, 9.93497713e-01],\n",
       "       [6.04104038e-01, 3.95895962e-01],\n",
       "       [1.93839685e-01, 8.06160315e-01],\n",
       "       [1.89294323e-02, 9.81070568e-01],\n",
       "       [8.14119872e-02, 9.18588013e-01],\n",
       "       [1.42233949e-02, 9.85776605e-01],\n",
       "       [8.34651092e-03, 9.91653489e-01],\n",
       "       [3.80261610e-02, 9.61973839e-01],\n",
       "       [1.05287571e-08, 9.99999989e-01],\n",
       "       [1.19851013e-08, 9.99999988e-01],\n",
       "       [8.00988835e-08, 9.99999920e-01],\n",
       "       [2.18115880e-07, 9.99999782e-01],\n",
       "       [5.32228486e-02, 9.46777151e-01],\n",
       "       [1.22043077e-01, 8.77956923e-01],\n",
       "       [2.36761798e-01, 7.63238202e-01],\n",
       "       [1.07172249e-02, 9.89282775e-01],\n",
       "       [2.48536313e-01, 7.51463687e-01],\n",
       "       [8.37611519e-01, 1.62388481e-01],\n",
       "       [4.95439740e-01, 5.04560260e-01],\n",
       "       [7.71760148e-03, 9.92282399e-01],\n",
       "       [4.70875661e-03, 9.95291243e-01],\n",
       "       [5.41940186e-01, 4.58059814e-01],\n",
       "       [3.70471029e-02, 9.62952897e-01],\n",
       "       [2.79558312e-02, 9.72044169e-01],\n",
       "       [4.92287148e-01, 5.07712852e-01],\n",
       "       [3.33407300e-07, 9.99999667e-01],\n",
       "       [1.60940382e-01, 8.39059618e-01],\n",
       "       [9.07030610e-03, 9.90929694e-01],\n",
       "       [1.10751635e-02, 9.88924836e-01],\n",
       "       [3.55973732e-02, 9.64402627e-01],\n",
       "       [8.10295509e-03, 9.91897045e-01],\n",
       "       [1.61334082e-04, 9.99838666e-01],\n",
       "       [1.12900388e-02, 9.88709961e-01],\n",
       "       [7.56257861e-03, 9.92437421e-01],\n",
       "       [5.05241023e-03, 9.94947590e-01],\n",
       "       [3.94321497e-02, 9.60567850e-01],\n",
       "       [8.06661841e-03, 9.91933382e-01],\n",
       "       [2.54790692e-02, 9.74520931e-01],\n",
       "       [8.41643016e-02, 9.15835698e-01],\n",
       "       [2.88341080e-03, 9.97116589e-01],\n",
       "       [4.75472851e-04, 9.99524527e-01],\n",
       "       [8.33178802e-03, 9.91668212e-01],\n",
       "       [4.07761244e-09, 9.99999996e-01],\n",
       "       [1.53848440e-01, 8.46151560e-01],\n",
       "       [1.94192359e-07, 9.99999806e-01],\n",
       "       [1.77037838e-01, 8.22962162e-01],\n",
       "       [4.54331215e-02, 9.54566878e-01],\n",
       "       [1.90862477e-02, 9.80913752e-01],\n",
       "       [3.99980623e-01, 6.00019377e-01],\n",
       "       [9.36964149e-04, 9.99063036e-01],\n",
       "       [2.07244714e-05, 9.99979276e-01],\n",
       "       [1.20728901e-04, 9.99879271e-01],\n",
       "       [2.81408303e-06, 9.99997186e-01],\n",
       "       [1.06248052e-03, 9.98937519e-01],\n",
       "       [3.06070668e-02, 9.69392933e-01],\n",
       "       [1.64956918e-04, 9.99835043e-01],\n",
       "       [7.03161979e-03, 9.92968380e-01],\n",
       "       [5.12627647e-01, 4.87372353e-01],\n",
       "       [7.59685045e-01, 2.40314955e-01]])"
      ]
     },
     "execution_count": 11,
     "metadata": {},
     "output_type": "execute_result"
    }
   ],
   "source": [
    "Y_prob = cls.predict_proba(X)\n",
    "Y_prob"
   ]
  },
  {
   "cell_type": "code",
   "execution_count": 12,
   "metadata": {},
   "outputs": [
    {
     "data": {
      "text/plain": [
       "array([1, 1, 1, 1, 1, 1, 1, 1, 1, 1, 1, 1, 1, 0, 1, 1, 1, 1, 1, 1, 1, 1,\n",
       "       1, 0, 1, 0, 1, 1, 1, 1, 1, 1, 1, 1, 1, 1, 1, 1, 1, 1, 1, 1, 1, 1,\n",
       "       1, 1, 1, 1, 1, 0, 1, 1, 1, 1, 1, 1, 1, 1, 0, 0, 1, 0, 0, 0, 0, 0,\n",
       "       0, 0, 0, 0, 0, 0, 0, 0, 0, 0, 1, 0, 0, 0, 1, 0, 0, 0, 0, 0, 0, 0,\n",
       "       0, 0, 0, 0, 0, 0, 0, 0, 0, 0, 0, 0, 0, 0, 0, 0, 0, 0, 0, 0, 0, 0,\n",
       "       0, 0, 0, 0, 0, 0, 1, 1])"
      ]
     },
     "execution_count": 12,
     "metadata": {},
     "output_type": "execute_result"
    }
   ],
   "source": [
    "Y_hat = cls.predict(X)\n",
    "Y_hat"
   ]
  },
  {
   "cell_type": "code",
   "execution_count": 13,
   "metadata": {},
   "outputs": [
    {
     "data": {
      "text/plain": [
       "0.923728813559322"
      ]
     },
     "execution_count": 13,
     "metadata": {},
     "output_type": "execute_result"
    }
   ],
   "source": [
    "accuracy_score(Y, Y_hat)"
   ]
  },
  {
   "cell_type": "code",
   "execution_count": 14,
   "metadata": {},
   "outputs": [
    {
     "data": {
      "image/png": "[encoded data removed]",
      "text/plain": [
       "<Figure size 432x288 with 1 Axes>"
      ]
     },
     "metadata": {
      "needs_background": "light"
     },
     "output_type": "display_data"
    }
   ],
   "source": [
    "plot_data(X, Y)\n",
    "plot_surface(cls, X[:, 0], X[:, 1])"
   ]
  },
  {
   "cell_type": "code",
   "execution_count": 15,
   "metadata": {},
   "outputs": [],
   "source": [
    "from sklearn.neural_network import MLPClassifier\n",
    "clf = MLPClassifier(hidden_layer_sizes = (20,), max_iter = 10000, activation = 'relu', solver = 'sgd', learning_rate_init = 0.01, learning_rate = 'constant')"
   ]
  },
  {
   "cell_type": "code",
   "execution_count": 16,
   "metadata": {},
   "outputs": [
    {
     "data": {
      "text/plain": [
       "MLPClassifier(activation='relu', alpha=0.0001, batch_size='auto', beta_1=0.9,\n",
       "              beta_2=0.999, early_stopping=False, epsilon=1e-08,\n",
       "              hidden_layer_sizes=(20,), learning_rate='constant',\n",
       "              learning_rate_init=0.01, max_iter=10000, momentum=0.9,\n",
       "              n_iter_no_change=10, nesterovs_momentum=True, power_t=0.5,\n",
       "              random_state=None, shuffle=True, solver='sgd', tol=0.0001,\n",
       "              validation_fraction=0.1, verbose=False, warm_start=False)"
      ]
     },
     "execution_count": 16,
     "metadata": {},
     "output_type": "execute_result"
    }
   ],
   "source": [
    "clf.fit(X, Y)"
   ]
  },
  {
   "cell_type": "code",
   "execution_count": 17,
   "metadata": {},
   "outputs": [
    {
     "data": {
      "image/png": "[encoded data removed]",
      "text/plain": [
       "<Figure size 432x288 with 1 Axes>"
      ]
     },
     "metadata": {
      "needs_background": "light"
     },
     "output_type": "display_data"
    }
   ],
   "source": [
    "plot_data(X, Y)\n",
    "plot_surface(clf, X[:, 0], X[:, 1])"
   ]
  },
  {
   "cell_type": "code",
   "execution_count": 18,
   "metadata": {},
   "outputs": [
    {
     "data": {
      "text/plain": [
       "0.8389830508474576"
      ]
     },
     "execution_count": 18,
     "metadata": {},
     "output_type": "execute_result"
    }
   ],
   "source": [
    "accuracy_score(Y, clf.predict(X))"
   ]
  }
 ],
 "metadata": {
  "anaconda-cloud": {},
  "kernelspec": {
   "display_name": "Python 3",
   "language": "python",
   "name": "python3"
  },
  "language_info": {
   "codemirror_mode": {
    "name": "ipython",
    "version": 3
   },
   "file_extension": ".py",
   "mimetype": "text/x-python",
   "name": "python",
   "nbconvert_exporter": "python",
   "pygments_lexer": "ipython3",
   "version": "3.7.4"
  }
 },
 "nbformat": 4,
 "nbformat_minor": 1
}
